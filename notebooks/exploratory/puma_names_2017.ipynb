{
 "cells": [
  {
   "cell_type": "code",
   "execution_count": 2,
   "metadata": {},
   "outputs": [],
   "source": [
    "import psycopg2\n",
    "import pandas as pd\n",
    "import numpy as np\n",
    "import seaborn as sns\n",
    "import requests\n",
    "import matplotlib.pyplot as plt\n",
    "%matplotlib inline\n",
    "\n",
    "DBNAME = \"opportunity_youth\"\n",
    "\n",
    "conn = psycopg2.connect(dbname=DBNAME)\n",
    "cur = conn.cursor()"
   ]
  },
  {
   "cell_type": "code",
   "execution_count": 3,
   "metadata": {},
   "outputs": [
    {
     "data": {
      "text/plain": [
       "(2378, 7)"
      ]
     },
     "execution_count": 3,
     "metadata": {},
     "output_type": "execute_result"
    }
   ],
   "source": [
    "df_puma_names_2010_og = pd.read_sql(\"\"\"\n",
    "    SELECT * \n",
    "    FROM puma_names_2010;\n",
    "    \"\"\", conn)\n",
    "df_puma_names_2010_og.shape"
   ]
  },
  {
   "cell_type": "code",
   "execution_count": 4,
   "metadata": {},
   "outputs": [
    {
     "data": {
      "text/plain": [
       "state_fips    0\n",
       "state_name    0\n",
       "cpuma0010     0\n",
       "puma          0\n",
       "geoid         0\n",
       "gisjoin       0\n",
       "puma_name     0\n",
       "dtype: int64"
      ]
     },
     "execution_count": 4,
     "metadata": {},
     "output_type": "execute_result"
    }
   ],
   "source": [
    "df_puma_names_2010_og.isna().sum()"
   ]
  },
  {
   "cell_type": "code",
   "execution_count": 5,
   "metadata": {},
   "outputs": [
    {
     "data": {
      "text/plain": [
       "California                                                                                              265\n",
       "Texas                                                                                                   212\n",
       "Florida                                                                                                 151\n",
       "New York                                                                                                145\n",
       "Ohio                                                                                                     93\n",
       "Pennsylvania                                                                                             92\n",
       "Illinois                                                                                                 88\n",
       "North Carolina                                                                                           78\n",
       "New Jersey                                                                                               73\n",
       "Georgia                                                                                                  72\n",
       "Michigan                                                                                                 68\n",
       "Washington                                                                                               56\n",
       "Virginia                                                                                                 56\n",
       "Arizona                                                                                                  54\n",
       "Massachusetts                                                                                            52\n",
       "Indiana                                                                                                  50\n",
       "Tennessee                                                                                                49\n",
       "Missouri                                                                                                 47\n",
       "Maryland                                                                                                 44\n",
       "Minnesota                                                                                                43\n",
       "Colorado                                                                                                 42\n",
       "Wisconsin                                                                                                40\n",
       "Kentucky                                                                                                 34\n",
       "Louisiana                                                                                                34\n",
       "Alabama                                                                                                  34\n",
       "Oregon                                                                                                   31\n",
       "South Carolina                                                                                           30\n",
       "Oklahoma                                                                                                 28\n",
       "Puerto Rico                                                                                              27\n",
       "Connecticut                                                                                              26\n",
       "Kansas                                                                                                   22\n",
       "Utah                                                                                                     22\n",
       "Iowa                                                                                                     22\n",
       "Mississippi                                                                                              21\n",
       "Arkansas                                                                                                 20\n",
       "Nevada                                                                                                   18\n",
       "New Mexico                                                                                               18\n",
       "Idaho                                                                                                    14\n",
       "Nebraska                                                                                                 14\n",
       "West Virginia                                                                                            13\n",
       "Hawaii                                                                                                   10\n",
       "New Hampshire                                                                                            10\n",
       "Maine                                                                                                    10\n",
       "Montana                                                                                                   7\n",
       "Rhode Island                                                                                              7\n",
       "Delaware                                                                                                  6\n",
       "South Dakota                                                                                              6\n",
       "North Dakota                                                                                              5\n",
       "Alaska                                                                                                    5\n",
       "Wyoming                                                                                                   5\n",
       "District Of Columbia                                                                                      5\n",
       "Vermont                                                                                                   4\n",
       "Name: state_name, dtype: int64"
      ]
     },
     "execution_count": 5,
     "metadata": {},
     "output_type": "execute_result"
    }
   ],
   "source": [
    "df_puma_names_2010_og.state_name.value_counts()"
   ]
  },
  {
   "cell_type": "code",
   "execution_count": 7,
   "metadata": {},
   "outputs": [],
   "source": [
    "df_puma_names_2010 = pd.read_sql(\"\"\"\n",
    "    SELECT * \n",
    "    FROM puma_names_2010\n",
    "    WHERE state_name = 'Washington'\n",
    "    AND puma_name LIKE 'King%'\n",
    "    ORDER BY puma ASC;\n",
    "    \"\"\", conn)"
   ]
  },
  {
   "cell_type": "code",
   "execution_count": 8,
   "metadata": {},
   "outputs": [
    {
     "data": {
      "text/html": [
       "<div>\n",
       "<style scoped>\n",
       "    .dataframe tbody tr th:only-of-type {\n",
       "        vertical-align: middle;\n",
       "    }\n",
       "\n",
       "    .dataframe tbody tr th {\n",
       "        vertical-align: top;\n",
       "    }\n",
       "\n",
       "    .dataframe thead th {\n",
       "        text-align: right;\n",
       "    }\n",
       "</style>\n",
       "<table border=\"1\" class=\"dataframe\">\n",
       "  <thead>\n",
       "    <tr style=\"text-align: right;\">\n",
       "      <th></th>\n",
       "      <th>state_fips</th>\n",
       "      <th>state_name</th>\n",
       "      <th>cpuma0010</th>\n",
       "      <th>puma</th>\n",
       "      <th>geoid</th>\n",
       "      <th>gisjoin</th>\n",
       "      <th>puma_name</th>\n",
       "    </tr>\n",
       "  </thead>\n",
       "  <tbody>\n",
       "    <tr>\n",
       "      <th>0</th>\n",
       "      <td>53</td>\n",
       "      <td>Washington                                    ...</td>\n",
       "      <td>1044</td>\n",
       "      <td>11606</td>\n",
       "      <td>5311606</td>\n",
       "      <td>G53011606</td>\n",
       "      <td>King County (Northwest)--Shoreline, Kenmore &amp; ...</td>\n",
       "    </tr>\n",
       "    <tr>\n",
       "      <th>1</th>\n",
       "      <td>53</td>\n",
       "      <td>Washington                                    ...</td>\n",
       "      <td>1044</td>\n",
       "      <td>11607</td>\n",
       "      <td>5311607</td>\n",
       "      <td>G53011607</td>\n",
       "      <td>King County (Northwest)--Redmond, Kirkland Cit...</td>\n",
       "    </tr>\n",
       "    <tr>\n",
       "      <th>2</th>\n",
       "      <td>53</td>\n",
       "      <td>Washington                                    ...</td>\n",
       "      <td>1044</td>\n",
       "      <td>11608</td>\n",
       "      <td>5311608</td>\n",
       "      <td>G53011608</td>\n",
       "      <td>King County (Northwest Central)--Greater Belle...</td>\n",
       "    </tr>\n",
       "    <tr>\n",
       "      <th>3</th>\n",
       "      <td>53</td>\n",
       "      <td>Washington                                    ...</td>\n",
       "      <td>1044</td>\n",
       "      <td>11609</td>\n",
       "      <td>5311609</td>\n",
       "      <td>G53011609</td>\n",
       "      <td>King County (Central)--Sammamish, Issaquah, Me...</td>\n",
       "    </tr>\n",
       "    <tr>\n",
       "      <th>4</th>\n",
       "      <td>53</td>\n",
       "      <td>Washington                                    ...</td>\n",
       "      <td>1044</td>\n",
       "      <td>11610</td>\n",
       "      <td>5311610</td>\n",
       "      <td>G53011610</td>\n",
       "      <td>King County (Central)--Renton City, Fairwood, ...</td>\n",
       "    </tr>\n",
       "    <tr>\n",
       "      <th>5</th>\n",
       "      <td>53</td>\n",
       "      <td>Washington                                    ...</td>\n",
       "      <td>1045</td>\n",
       "      <td>11611</td>\n",
       "      <td>5311611</td>\n",
       "      <td>G53011611</td>\n",
       "      <td>King County (West Central)--Burien, SeaTac, Tu...</td>\n",
       "    </tr>\n",
       "    <tr>\n",
       "      <th>6</th>\n",
       "      <td>53</td>\n",
       "      <td>Washington                                    ...</td>\n",
       "      <td>1046</td>\n",
       "      <td>11612</td>\n",
       "      <td>5311612</td>\n",
       "      <td>G53011612</td>\n",
       "      <td>King County (Far Southwest)--Federal Way, Des ...</td>\n",
       "    </tr>\n",
       "    <tr>\n",
       "      <th>7</th>\n",
       "      <td>53</td>\n",
       "      <td>Washington                                    ...</td>\n",
       "      <td>1044</td>\n",
       "      <td>11613</td>\n",
       "      <td>5311613</td>\n",
       "      <td>G53011613</td>\n",
       "      <td>King County (Southwest Central)--Kent City    ...</td>\n",
       "    </tr>\n",
       "    <tr>\n",
       "      <th>8</th>\n",
       "      <td>53</td>\n",
       "      <td>Washington                                    ...</td>\n",
       "      <td>1044</td>\n",
       "      <td>11614</td>\n",
       "      <td>5311614</td>\n",
       "      <td>G53011614</td>\n",
       "      <td>King County (Southwest)--Auburn City &amp; Lakelan...</td>\n",
       "    </tr>\n",
       "    <tr>\n",
       "      <th>9</th>\n",
       "      <td>53</td>\n",
       "      <td>Washington                                    ...</td>\n",
       "      <td>1044</td>\n",
       "      <td>11615</td>\n",
       "      <td>5311615</td>\n",
       "      <td>G53011615</td>\n",
       "      <td>King County (Southeast)--Maple Valley, Covingt...</td>\n",
       "    </tr>\n",
       "    <tr>\n",
       "      <th>10</th>\n",
       "      <td>53</td>\n",
       "      <td>Washington                                    ...</td>\n",
       "      <td>1044</td>\n",
       "      <td>11616</td>\n",
       "      <td>5311616</td>\n",
       "      <td>G53011616</td>\n",
       "      <td>King County (Northeast)--Snoqualmie City, Cott...</td>\n",
       "    </tr>\n",
       "  </tbody>\n",
       "</table>\n",
       "</div>"
      ],
      "text/plain": [
       "   state_fips                                         state_name cpuma0010  \\\n",
       "0          53  Washington                                    ...      1044   \n",
       "1          53  Washington                                    ...      1044   \n",
       "2          53  Washington                                    ...      1044   \n",
       "3          53  Washington                                    ...      1044   \n",
       "4          53  Washington                                    ...      1044   \n",
       "5          53  Washington                                    ...      1045   \n",
       "6          53  Washington                                    ...      1046   \n",
       "7          53  Washington                                    ...      1044   \n",
       "8          53  Washington                                    ...      1044   \n",
       "9          53  Washington                                    ...      1044   \n",
       "10         53  Washington                                    ...      1044   \n",
       "\n",
       "     puma    geoid    gisjoin  \\\n",
       "0   11606  5311606  G53011606   \n",
       "1   11607  5311607  G53011607   \n",
       "2   11608  5311608  G53011608   \n",
       "3   11609  5311609  G53011609   \n",
       "4   11610  5311610  G53011610   \n",
       "5   11611  5311611  G53011611   \n",
       "6   11612  5311612  G53011612   \n",
       "7   11613  5311613  G53011613   \n",
       "8   11614  5311614  G53011614   \n",
       "9   11615  5311615  G53011615   \n",
       "10  11616  5311616  G53011616   \n",
       "\n",
       "                                            puma_name  \n",
       "0   King County (Northwest)--Shoreline, Kenmore & ...  \n",
       "1   King County (Northwest)--Redmond, Kirkland Cit...  \n",
       "2   King County (Northwest Central)--Greater Belle...  \n",
       "3   King County (Central)--Sammamish, Issaquah, Me...  \n",
       "4   King County (Central)--Renton City, Fairwood, ...  \n",
       "5   King County (West Central)--Burien, SeaTac, Tu...  \n",
       "6   King County (Far Southwest)--Federal Way, Des ...  \n",
       "7   King County (Southwest Central)--Kent City    ...  \n",
       "8   King County (Southwest)--Auburn City & Lakelan...  \n",
       "9   King County (Southeast)--Maple Valley, Covingt...  \n",
       "10  King County (Northeast)--Snoqualmie City, Cott...  "
      ]
     },
     "execution_count": 8,
     "metadata": {},
     "output_type": "execute_result"
    }
   ],
   "source": [
    "df_puma_names_2010"
   ]
  },
  {
   "cell_type": "code",
   "execution_count": 16,
   "metadata": {},
   "outputs": [
    {
     "data": {
      "text/plain": [
       "(11, 7)"
      ]
     },
     "execution_count": 16,
     "metadata": {},
     "output_type": "execute_result"
    }
   ],
   "source": [
    "df_puma_names_2010.shape"
   ]
  },
  {
   "cell_type": "code",
   "execution_count": 17,
   "metadata": {},
   "outputs": [
    {
     "data": {
      "text/plain": [
       "Washington                                                                                              11\n",
       "Name: state_name, dtype: int64"
      ]
     },
     "execution_count": 17,
     "metadata": {},
     "output_type": "execute_result"
    }
   ],
   "source": [
    "df_puma_names_2010.state_name.value_counts()"
   ]
  },
  {
   "cell_type": "code",
   "execution_count": null,
   "metadata": {},
   "outputs": [],
   "source": []
  }
 ],
 "metadata": {
  "kernelspec": {
   "display_name": "Python 3",
   "language": "python",
   "name": "python3"
  },
  "language_info": {
   "codemirror_mode": {
    "name": "ipython",
    "version": 3
   },
   "file_extension": ".py",
   "mimetype": "text/x-python",
   "name": "python",
   "nbconvert_exporter": "python",
   "pygments_lexer": "ipython3",
   "version": "3.8.1"
  }
 },
 "nbformat": 4,
 "nbformat_minor": 4
}
