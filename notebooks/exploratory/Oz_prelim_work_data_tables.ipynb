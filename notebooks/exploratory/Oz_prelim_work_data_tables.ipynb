{
 "cells": [
  {
   "cell_type": "markdown",
   "metadata": {},
   "source": [
    "# Data Download and Exploration"
   ]
  },
  {
   "cell_type": "markdown",
   "metadata": {},
   "source": [
    "This code means that the notebook will re-import your source code in `src` when it is edited (the default is not to re-import, because most modules are assumed not to change over time).  It's a good idea to include it in any exploratory notebook that uses `src` code"
   ]
  },
  {
   "cell_type": "code",
   "execution_count": 3,
   "metadata": {},
   "outputs": [],
   "source": [
    "%load_ext autoreload\n",
    "%autoreload 2"
   ]
  },
  {
   "cell_type": "markdown",
   "metadata": {},
   "source": [
    "This snippet allows the notebook to import from the `src` module.  The directory structure looks like:\n",
    "\n",
    "```\n",
    "├── notebooks          <- Jupyter notebooks. Naming convention is a number (for ordering)\n",
    "│   │                     followed by the topic of the notebook, e.g.\n",
    "│   │                     01_data_collection_exploration.ipynb\n",
    "│   └── exploratory    <- Raw, flow-of-consciousness, work-in-progress notebooks\n",
    "│   └── report         <- Final summary notebook(s)\n",
    "│\n",
    "├── src                <- Source code for use in this project\n",
    "│   ├── data           <- Scripts to download and query data\n",
    "│   │   ├── sql        <- SQL scripts. Naming convention is a number (for ordering)\n",
    "│   │   │                 followed by the topic of the script, e.g.\n",
    "│   │   │                 03_create_pums_2017_table.sql\n",
    "│   │   ├── data_collection.py\n",
    "│   │   └── sql_utils.py\n",
    "```\n",
    "\n",
    "So we need to go up two \"pardir\"s (parent directories) to import the `src` code from this notebook.  You'll want to include this code at the top of any notebook that uses the `src` code."
   ]
  },
  {
   "cell_type": "code",
   "execution_count": 4,
   "metadata": {},
   "outputs": [],
   "source": [
    "import os\n",
    "import sys\n",
    "module_path = os.path.abspath(os.path.join(os.pardir, os.pardir))\n",
    "if module_path not in sys.path:\n",
    "    sys.path.append(module_path)"
   ]
  },
  {
   "cell_type": "markdown",
   "metadata": {},
   "source": [
    "The code to download all of the data and load it into a SQL database is in the `data` module within the `src` module.  You'll only need to run `download_data_and_load_into_sql` one time for the duration of the project."
   ]
  },
  {
   "cell_type": "code",
   "execution_count": 5,
   "metadata": {},
   "outputs": [],
   "source": [
    "from src.data import data_collection"
   ]
  },
  {
   "cell_type": "markdown",
   "metadata": {},
   "source": [
    "This line may take as long as 10-20 minutes depending on your network connection and computer specs"
   ]
  },
  {
   "cell_type": "code",
   "execution_count": 5,
   "metadata": {},
   "outputs": [
    {
     "ename": "DuplicateDatabase",
     "evalue": "database \"opportunity_youth\" already exists\n",
     "output_type": "error",
     "traceback": [
      "\u001b[0;31m---------------------------------------------------------------------------\u001b[0m",
      "\u001b[0;31mDuplicateDatabase\u001b[0m                         Traceback (most recent call last)",
      "\u001b[0;32m<ipython-input-5-c734594bcc8e>\u001b[0m in \u001b[0;36m<module>\u001b[0;34m\u001b[0m\n\u001b[0;32m----> 1\u001b[0;31m \u001b[0mdata_collection\u001b[0m\u001b[0;34m.\u001b[0m\u001b[0mdownload_data_and_load_into_sql\u001b[0m\u001b[0;34m(\u001b[0m\u001b[0;34m)\u001b[0m\u001b[0;34m\u001b[0m\u001b[0;34m\u001b[0m\u001b[0m\n\u001b[0m",
      "\u001b[0;32m~/Documents/Flatiron/projects/phase-1-project-west-ds-082420/src/data/data_collection.py\u001b[0m in \u001b[0;36mdownload_data_and_load_into_sql\u001b[0;34m()\u001b[0m\n\u001b[1;32m     15\u001b[0m     \u001b[0mcontaining\u001b[0m \u001b[0mthe\u001b[0m \u001b[0mdata\u001b[0m\u001b[0;34m,\u001b[0m \u001b[0;32mand\u001b[0m \u001b[0mloads\u001b[0m \u001b[0mthe\u001b[0m \u001b[0mdata\u001b[0m \u001b[0minto\u001b[0m \u001b[0mthe\u001b[0m \u001b[0mdatabase\u001b[0m\u001b[0;34m\u001b[0m\u001b[0;34m\u001b[0m\u001b[0m\n\u001b[1;32m     16\u001b[0m     \"\"\"\n\u001b[0;32m---> 17\u001b[0;31m     \u001b[0msql_utils\u001b[0m\u001b[0;34m.\u001b[0m\u001b[0mcreate_database_and_tables\u001b[0m\u001b[0;34m(\u001b[0m\u001b[0;34m)\u001b[0m\u001b[0;34m\u001b[0m\u001b[0;34m\u001b[0m\u001b[0m\n\u001b[0m\u001b[1;32m     18\u001b[0m     \u001b[0mdata_files_dict\u001b[0m \u001b[0;34m=\u001b[0m \u001b[0mcollect_all_data_files\u001b[0m\u001b[0;34m(\u001b[0m\u001b[0;34m)\u001b[0m\u001b[0;34m\u001b[0m\u001b[0;34m\u001b[0m\u001b[0m\n\u001b[1;32m     19\u001b[0m     \u001b[0mload_into_sql\u001b[0m\u001b[0;34m(\u001b[0m\u001b[0mdata_files_dict\u001b[0m\u001b[0;34m)\u001b[0m\u001b[0;34m\u001b[0m\u001b[0;34m\u001b[0m\u001b[0m\n",
      "\u001b[0;32m~/Documents/Flatiron/projects/phase-1-project-west-ds-082420/src/data/sql_utils.py\u001b[0m in \u001b[0;36mcreate_database_and_tables\u001b[0;34m()\u001b[0m\n\u001b[1;32m      6\u001b[0m \u001b[0;34m\u001b[0m\u001b[0m\n\u001b[1;32m      7\u001b[0m \u001b[0;32mdef\u001b[0m \u001b[0mcreate_database_and_tables\u001b[0m\u001b[0;34m(\u001b[0m\u001b[0;34m)\u001b[0m\u001b[0;34m:\u001b[0m\u001b[0;34m\u001b[0m\u001b[0;34m\u001b[0m\u001b[0m\n\u001b[0;32m----> 8\u001b[0;31m     \u001b[0mcreate_database\u001b[0m\u001b[0;34m(\u001b[0m\u001b[0;34m)\u001b[0m\u001b[0;34m\u001b[0m\u001b[0;34m\u001b[0m\u001b[0m\n\u001b[0m\u001b[1;32m      9\u001b[0m     \u001b[0mcreate_tables\u001b[0m\u001b[0;34m(\u001b[0m\u001b[0;34m)\u001b[0m\u001b[0;34m\u001b[0m\u001b[0;34m\u001b[0m\u001b[0m\n\u001b[1;32m     10\u001b[0m     \u001b[0mprint\u001b[0m\u001b[0;34m(\u001b[0m\u001b[0;34m\"Successfully created database and all tables\"\u001b[0m\u001b[0;34m)\u001b[0m\u001b[0;34m\u001b[0m\u001b[0;34m\u001b[0m\u001b[0m\n",
      "\u001b[0;32m~/Documents/Flatiron/projects/phase-1-project-west-ds-082420/src/data/sql_utils.py\u001b[0m in \u001b[0;36mcreate_database\u001b[0;34m()\u001b[0m\n\u001b[1;32m     27\u001b[0m     \u001b[0;31m# `opportunity_youth` and you want to drop it\u001b[0m\u001b[0;34m\u001b[0m\u001b[0;34m\u001b[0m\u001b[0;34m\u001b[0m\u001b[0m\n\u001b[1;32m     28\u001b[0m     \u001b[0;31m# execute_sql_script(conn, \"01_drop_old_database.sql\")\u001b[0m\u001b[0;34m\u001b[0m\u001b[0;34m\u001b[0m\u001b[0;34m\u001b[0m\u001b[0m\n\u001b[0;32m---> 29\u001b[0;31m     \u001b[0mexecute_sql_script\u001b[0m\u001b[0;34m(\u001b[0m\u001b[0mconn\u001b[0m\u001b[0;34m,\u001b[0m \u001b[0;34m\"02_create_new_database.sql\"\u001b[0m\u001b[0;34m)\u001b[0m\u001b[0;34m\u001b[0m\u001b[0;34m\u001b[0m\u001b[0m\n\u001b[0m\u001b[1;32m     30\u001b[0m \u001b[0;34m\u001b[0m\u001b[0m\n\u001b[1;32m     31\u001b[0m     \u001b[0mconn\u001b[0m\u001b[0;34m.\u001b[0m\u001b[0mclose\u001b[0m\u001b[0;34m(\u001b[0m\u001b[0;34m)\u001b[0m\u001b[0;34m\u001b[0m\u001b[0;34m\u001b[0m\u001b[0m\n",
      "\u001b[0;32m~/Documents/Flatiron/projects/phase-1-project-west-ds-082420/src/data/sql_utils.py\u001b[0m in \u001b[0;36mexecute_sql_script\u001b[0;34m(conn, script_filename)\u001b[0m\n\u001b[1;32m    163\u001b[0m     \u001b[0mfile_contents\u001b[0m \u001b[0;34m=\u001b[0m \u001b[0mopen_sql_script\u001b[0m\u001b[0;34m(\u001b[0m\u001b[0mscript_filename\u001b[0m\u001b[0;34m)\u001b[0m\u001b[0;34m\u001b[0m\u001b[0;34m\u001b[0m\u001b[0m\n\u001b[1;32m    164\u001b[0m     \u001b[0mcursor\u001b[0m \u001b[0;34m=\u001b[0m \u001b[0mconn\u001b[0m\u001b[0;34m.\u001b[0m\u001b[0mcursor\u001b[0m\u001b[0;34m(\u001b[0m\u001b[0;34m)\u001b[0m\u001b[0;34m\u001b[0m\u001b[0;34m\u001b[0m\u001b[0m\n\u001b[0;32m--> 165\u001b[0;31m     \u001b[0mcursor\u001b[0m\u001b[0;34m.\u001b[0m\u001b[0mexecute\u001b[0m\u001b[0;34m(\u001b[0m\u001b[0mfile_contents\u001b[0m\u001b[0;34m)\u001b[0m\u001b[0;34m\u001b[0m\u001b[0;34m\u001b[0m\u001b[0m\n\u001b[0m\u001b[1;32m    166\u001b[0m     \u001b[0mconn\u001b[0m\u001b[0;34m.\u001b[0m\u001b[0mcommit\u001b[0m\u001b[0;34m(\u001b[0m\u001b[0;34m)\u001b[0m\u001b[0;34m\u001b[0m\u001b[0;34m\u001b[0m\u001b[0m\n\u001b[1;32m    167\u001b[0m \u001b[0;34m\u001b[0m\u001b[0m\n",
      "\u001b[0;31mDuplicateDatabase\u001b[0m: database \"opportunity_youth\" already exists\n"
     ]
    }
   ],
   "source": [
    "data_collection.download_data_and_load_into_sql()"
   ]
  },
  {
   "cell_type": "markdown",
   "metadata": {},
   "source": [
    "Now it's time to explore the data!"
   ]
  },
  {
   "cell_type": "code",
   "execution_count": 6,
   "metadata": {},
   "outputs": [],
   "source": [
    "import psycopg2\n",
    "import pandas as pd\n",
    "import numpy as np\n",
    "import seaborn as sns\n",
    "import requests\n",
    "import matplotlib.pyplot as plt\n",
    "%matplotlib inline\n",
    "\n",
    "DBNAME = \"opportunity_youth\"\n",
    "\n",
    "conn = psycopg2.connect(dbname=DBNAME)\n",
    "cur = conn.cursor()"
   ]
  },
  {
   "cell_type": "markdown",
   "metadata": {},
   "source": [
    "***\n",
    "# Query database and creating DataFrame\n",
    "#### df_pums_2017"
   ]
  },
  {
   "cell_type": "code",
   "execution_count": 7,
   "metadata": {},
   "outputs": [
    {
     "data": {
      "text/html": [
       "<div>\n",
       "<style scoped>\n",
       "    .dataframe tbody tr th:only-of-type {\n",
       "        vertical-align: middle;\n",
       "    }\n",
       "\n",
       "    .dataframe tbody tr th {\n",
       "        vertical-align: top;\n",
       "    }\n",
       "\n",
       "    .dataframe thead th {\n",
       "        text-align: right;\n",
       "    }\n",
       "</style>\n",
       "<table border=\"1\" class=\"dataframe\">\n",
       "  <thead>\n",
       "    <tr style=\"text-align: right;\">\n",
       "      <th></th>\n",
       "      <th>rt</th>\n",
       "      <th>serialno</th>\n",
       "      <th>division</th>\n",
       "      <th>sporder</th>\n",
       "      <th>puma</th>\n",
       "      <th>region</th>\n",
       "      <th>st</th>\n",
       "      <th>adjinc</th>\n",
       "      <th>pwgtp</th>\n",
       "      <th>agep</th>\n",
       "      <th>...</th>\n",
       "      <th>pwgtp71</th>\n",
       "      <th>pwgtp72</th>\n",
       "      <th>pwgtp73</th>\n",
       "      <th>pwgtp74</th>\n",
       "      <th>pwgtp75</th>\n",
       "      <th>pwgtp76</th>\n",
       "      <th>pwgtp77</th>\n",
       "      <th>pwgtp78</th>\n",
       "      <th>pwgtp79</th>\n",
       "      <th>pwgtp80</th>\n",
       "    </tr>\n",
       "  </thead>\n",
       "  <tbody>\n",
       "    <tr>\n",
       "      <th>0</th>\n",
       "      <td>P</td>\n",
       "      <td>2013000000006</td>\n",
       "      <td>9</td>\n",
       "      <td>01</td>\n",
       "      <td>11606</td>\n",
       "      <td>4</td>\n",
       "      <td>53</td>\n",
       "      <td>1061971</td>\n",
       "      <td>27.0</td>\n",
       "      <td>68.0</td>\n",
       "      <td>...</td>\n",
       "      <td>53.0</td>\n",
       "      <td>24.0</td>\n",
       "      <td>39.0</td>\n",
       "      <td>24.0</td>\n",
       "      <td>7.0</td>\n",
       "      <td>27.0</td>\n",
       "      <td>8.0</td>\n",
       "      <td>46.0</td>\n",
       "      <td>25.0</td>\n",
       "      <td>50.0</td>\n",
       "    </tr>\n",
       "    <tr>\n",
       "      <th>1</th>\n",
       "      <td>P</td>\n",
       "      <td>2013000000006</td>\n",
       "      <td>9</td>\n",
       "      <td>02</td>\n",
       "      <td>11606</td>\n",
       "      <td>4</td>\n",
       "      <td>53</td>\n",
       "      <td>1061971</td>\n",
       "      <td>22.0</td>\n",
       "      <td>66.0</td>\n",
       "      <td>...</td>\n",
       "      <td>49.0</td>\n",
       "      <td>21.0</td>\n",
       "      <td>38.0</td>\n",
       "      <td>20.0</td>\n",
       "      <td>7.0</td>\n",
       "      <td>25.0</td>\n",
       "      <td>8.0</td>\n",
       "      <td>41.0</td>\n",
       "      <td>22.0</td>\n",
       "      <td>47.0</td>\n",
       "    </tr>\n",
       "    <tr>\n",
       "      <th>2</th>\n",
       "      <td>P</td>\n",
       "      <td>2013000000012</td>\n",
       "      <td>9</td>\n",
       "      <td>01</td>\n",
       "      <td>10100</td>\n",
       "      <td>4</td>\n",
       "      <td>53</td>\n",
       "      <td>1061971</td>\n",
       "      <td>22.0</td>\n",
       "      <td>72.0</td>\n",
       "      <td>...</td>\n",
       "      <td>24.0</td>\n",
       "      <td>22.0</td>\n",
       "      <td>25.0</td>\n",
       "      <td>7.0</td>\n",
       "      <td>21.0</td>\n",
       "      <td>35.0</td>\n",
       "      <td>6.0</td>\n",
       "      <td>22.0</td>\n",
       "      <td>6.0</td>\n",
       "      <td>37.0</td>\n",
       "    </tr>\n",
       "    <tr>\n",
       "      <th>3</th>\n",
       "      <td>P</td>\n",
       "      <td>2013000000012</td>\n",
       "      <td>9</td>\n",
       "      <td>02</td>\n",
       "      <td>10100</td>\n",
       "      <td>4</td>\n",
       "      <td>53</td>\n",
       "      <td>1061971</td>\n",
       "      <td>19.0</td>\n",
       "      <td>64.0</td>\n",
       "      <td>...</td>\n",
       "      <td>21.0</td>\n",
       "      <td>18.0</td>\n",
       "      <td>19.0</td>\n",
       "      <td>7.0</td>\n",
       "      <td>17.0</td>\n",
       "      <td>29.0</td>\n",
       "      <td>6.0</td>\n",
       "      <td>19.0</td>\n",
       "      <td>6.0</td>\n",
       "      <td>29.0</td>\n",
       "    </tr>\n",
       "    <tr>\n",
       "      <th>4</th>\n",
       "      <td>P</td>\n",
       "      <td>2013000000038</td>\n",
       "      <td>9</td>\n",
       "      <td>01</td>\n",
       "      <td>11505</td>\n",
       "      <td>4</td>\n",
       "      <td>53</td>\n",
       "      <td>1061971</td>\n",
       "      <td>4.0</td>\n",
       "      <td>52.0</td>\n",
       "      <td>...</td>\n",
       "      <td>4.0</td>\n",
       "      <td>1.0</td>\n",
       "      <td>2.0</td>\n",
       "      <td>8.0</td>\n",
       "      <td>8.0</td>\n",
       "      <td>1.0</td>\n",
       "      <td>4.0</td>\n",
       "      <td>6.0</td>\n",
       "      <td>1.0</td>\n",
       "      <td>4.0</td>\n",
       "    </tr>\n",
       "    <tr>\n",
       "      <th>5</th>\n",
       "      <td>P</td>\n",
       "      <td>2013000000038</td>\n",
       "      <td>9</td>\n",
       "      <td>02</td>\n",
       "      <td>11505</td>\n",
       "      <td>4</td>\n",
       "      <td>53</td>\n",
       "      <td>1061971</td>\n",
       "      <td>4.0</td>\n",
       "      <td>51.0</td>\n",
       "      <td>...</td>\n",
       "      <td>4.0</td>\n",
       "      <td>1.0</td>\n",
       "      <td>1.0</td>\n",
       "      <td>8.0</td>\n",
       "      <td>7.0</td>\n",
       "      <td>1.0</td>\n",
       "      <td>4.0</td>\n",
       "      <td>7.0</td>\n",
       "      <td>2.0</td>\n",
       "      <td>4.0</td>\n",
       "    </tr>\n",
       "    <tr>\n",
       "      <th>6</th>\n",
       "      <td>P</td>\n",
       "      <td>2013000000038</td>\n",
       "      <td>9</td>\n",
       "      <td>03</td>\n",
       "      <td>11505</td>\n",
       "      <td>4</td>\n",
       "      <td>53</td>\n",
       "      <td>1061971</td>\n",
       "      <td>7.0</td>\n",
       "      <td>18.0</td>\n",
       "      <td>...</td>\n",
       "      <td>5.0</td>\n",
       "      <td>2.0</td>\n",
       "      <td>3.0</td>\n",
       "      <td>14.0</td>\n",
       "      <td>12.0</td>\n",
       "      <td>2.0</td>\n",
       "      <td>8.0</td>\n",
       "      <td>13.0</td>\n",
       "      <td>3.0</td>\n",
       "      <td>6.0</td>\n",
       "    </tr>\n",
       "    <tr>\n",
       "      <th>7</th>\n",
       "      <td>P</td>\n",
       "      <td>2013000000070</td>\n",
       "      <td>9</td>\n",
       "      <td>01</td>\n",
       "      <td>10400</td>\n",
       "      <td>4</td>\n",
       "      <td>53</td>\n",
       "      <td>1061971</td>\n",
       "      <td>15.0</td>\n",
       "      <td>59.0</td>\n",
       "      <td>...</td>\n",
       "      <td>26.0</td>\n",
       "      <td>14.0</td>\n",
       "      <td>14.0</td>\n",
       "      <td>26.0</td>\n",
       "      <td>15.0</td>\n",
       "      <td>16.0</td>\n",
       "      <td>33.0</td>\n",
       "      <td>16.0</td>\n",
       "      <td>15.0</td>\n",
       "      <td>15.0</td>\n",
       "    </tr>\n",
       "    <tr>\n",
       "      <th>8</th>\n",
       "      <td>P</td>\n",
       "      <td>2013000000070</td>\n",
       "      <td>9</td>\n",
       "      <td>02</td>\n",
       "      <td>10400</td>\n",
       "      <td>4</td>\n",
       "      <td>53</td>\n",
       "      <td>1061971</td>\n",
       "      <td>18.0</td>\n",
       "      <td>56.0</td>\n",
       "      <td>...</td>\n",
       "      <td>27.0</td>\n",
       "      <td>15.0</td>\n",
       "      <td>16.0</td>\n",
       "      <td>30.0</td>\n",
       "      <td>14.0</td>\n",
       "      <td>18.0</td>\n",
       "      <td>38.0</td>\n",
       "      <td>17.0</td>\n",
       "      <td>17.0</td>\n",
       "      <td>14.0</td>\n",
       "    </tr>\n",
       "    <tr>\n",
       "      <th>9</th>\n",
       "      <td>P</td>\n",
       "      <td>2013000000082</td>\n",
       "      <td>9</td>\n",
       "      <td>01</td>\n",
       "      <td>11615</td>\n",
       "      <td>4</td>\n",
       "      <td>53</td>\n",
       "      <td>1061971</td>\n",
       "      <td>90.0</td>\n",
       "      <td>40.0</td>\n",
       "      <td>...</td>\n",
       "      <td>119.0</td>\n",
       "      <td>152.0</td>\n",
       "      <td>33.0</td>\n",
       "      <td>30.0</td>\n",
       "      <td>100.0</td>\n",
       "      <td>77.0</td>\n",
       "      <td>115.0</td>\n",
       "      <td>85.0</td>\n",
       "      <td>114.0</td>\n",
       "      <td>29.0</td>\n",
       "    </tr>\n",
       "  </tbody>\n",
       "</table>\n",
       "<p>10 rows × 286 columns</p>\n",
       "</div>"
      ],
      "text/plain": [
       "  rt       serialno division sporder   puma region  st   adjinc  pwgtp  agep  \\\n",
       "0  P  2013000000006        9      01  11606      4  53  1061971   27.0  68.0   \n",
       "1  P  2013000000006        9      02  11606      4  53  1061971   22.0  66.0   \n",
       "2  P  2013000000012        9      01  10100      4  53  1061971   22.0  72.0   \n",
       "3  P  2013000000012        9      02  10100      4  53  1061971   19.0  64.0   \n",
       "4  P  2013000000038        9      01  11505      4  53  1061971    4.0  52.0   \n",
       "5  P  2013000000038        9      02  11505      4  53  1061971    4.0  51.0   \n",
       "6  P  2013000000038        9      03  11505      4  53  1061971    7.0  18.0   \n",
       "7  P  2013000000070        9      01  10400      4  53  1061971   15.0  59.0   \n",
       "8  P  2013000000070        9      02  10400      4  53  1061971   18.0  56.0   \n",
       "9  P  2013000000082        9      01  11615      4  53  1061971   90.0  40.0   \n",
       "\n",
       "   ...  pwgtp71  pwgtp72 pwgtp73 pwgtp74 pwgtp75 pwgtp76 pwgtp77 pwgtp78  \\\n",
       "0  ...     53.0     24.0    39.0    24.0     7.0    27.0     8.0    46.0   \n",
       "1  ...     49.0     21.0    38.0    20.0     7.0    25.0     8.0    41.0   \n",
       "2  ...     24.0     22.0    25.0     7.0    21.0    35.0     6.0    22.0   \n",
       "3  ...     21.0     18.0    19.0     7.0    17.0    29.0     6.0    19.0   \n",
       "4  ...      4.0      1.0     2.0     8.0     8.0     1.0     4.0     6.0   \n",
       "5  ...      4.0      1.0     1.0     8.0     7.0     1.0     4.0     7.0   \n",
       "6  ...      5.0      2.0     3.0    14.0    12.0     2.0     8.0    13.0   \n",
       "7  ...     26.0     14.0    14.0    26.0    15.0    16.0    33.0    16.0   \n",
       "8  ...     27.0     15.0    16.0    30.0    14.0    18.0    38.0    17.0   \n",
       "9  ...    119.0    152.0    33.0    30.0   100.0    77.0   115.0    85.0   \n",
       "\n",
       "  pwgtp79 pwgtp80  \n",
       "0    25.0    50.0  \n",
       "1    22.0    47.0  \n",
       "2     6.0    37.0  \n",
       "3     6.0    29.0  \n",
       "4     1.0     4.0  \n",
       "5     2.0     4.0  \n",
       "6     3.0     6.0  \n",
       "7    15.0    15.0  \n",
       "8    17.0    14.0  \n",
       "9   114.0    29.0  \n",
       "\n",
       "[10 rows x 286 columns]"
      ]
     },
     "execution_count": 7,
     "metadata": {},
     "output_type": "execute_result"
    }
   ],
   "source": [
    "#Querying SQL database\n",
    "\n",
    "pd.read_sql(\"\"\"SELECT *\n",
    "            FROM pums_2017\n",
    "            LIMIT 10;\"\"\", conn)"
   ]
  },
  {
   "cell_type": "markdown",
   "metadata": {},
   "source": [
    "Notice the `LIMIT 10` above.  These tables have a large amount of data in them and **your goal is to use SQL to create your main query, not Pandas**.  Pandas can technically do everything that you need to do, but it will be much slower and more inefficient.  Nevertheless, Pandas is still a useful tool for exploring the data and getting a basic sense of what you're looking at."
   ]
  },
  {
   "cell_type": "code",
   "execution_count": 8,
   "metadata": {},
   "outputs": [
    {
     "data": {
      "text/plain": [
       "(359075, 286)"
      ]
     },
     "execution_count": 8,
     "metadata": {},
     "output_type": "execute_result"
    }
   ],
   "source": [
    "#Creating pandas dataframe\n",
    "\n",
    "df_pums_2017 = pd.read_sql(\"\"\"\n",
    "    SELECT * \n",
    "    FROM pums_2017;\n",
    "    \"\"\", conn)\n",
    "df_pums_2017.shape "
   ]
  },
  {
   "cell_type": "code",
   "execution_count": 9,
   "metadata": {},
   "outputs": [
    {
     "data": {
      "text/html": [
       "<div>\n",
       "<style scoped>\n",
       "    .dataframe tbody tr th:only-of-type {\n",
       "        vertical-align: middle;\n",
       "    }\n",
       "\n",
       "    .dataframe tbody tr th {\n",
       "        vertical-align: top;\n",
       "    }\n",
       "\n",
       "    .dataframe thead th {\n",
       "        text-align: right;\n",
       "    }\n",
       "</style>\n",
       "<table border=\"1\" class=\"dataframe\">\n",
       "  <thead>\n",
       "    <tr style=\"text-align: right;\">\n",
       "      <th></th>\n",
       "      <th>rt</th>\n",
       "      <th>serialno</th>\n",
       "      <th>division</th>\n",
       "      <th>sporder</th>\n",
       "      <th>puma</th>\n",
       "      <th>region</th>\n",
       "      <th>st</th>\n",
       "      <th>adjinc</th>\n",
       "      <th>pwgtp</th>\n",
       "      <th>agep</th>\n",
       "      <th>...</th>\n",
       "      <th>pwgtp71</th>\n",
       "      <th>pwgtp72</th>\n",
       "      <th>pwgtp73</th>\n",
       "      <th>pwgtp74</th>\n",
       "      <th>pwgtp75</th>\n",
       "      <th>pwgtp76</th>\n",
       "      <th>pwgtp77</th>\n",
       "      <th>pwgtp78</th>\n",
       "      <th>pwgtp79</th>\n",
       "      <th>pwgtp80</th>\n",
       "    </tr>\n",
       "  </thead>\n",
       "  <tbody>\n",
       "    <tr>\n",
       "      <th>0</th>\n",
       "      <td>P</td>\n",
       "      <td>2013000000006</td>\n",
       "      <td>9</td>\n",
       "      <td>01</td>\n",
       "      <td>11606</td>\n",
       "      <td>4</td>\n",
       "      <td>53</td>\n",
       "      <td>1061971</td>\n",
       "      <td>27.0</td>\n",
       "      <td>68.0</td>\n",
       "      <td>...</td>\n",
       "      <td>53.0</td>\n",
       "      <td>24.0</td>\n",
       "      <td>39.0</td>\n",
       "      <td>24.0</td>\n",
       "      <td>7.0</td>\n",
       "      <td>27.0</td>\n",
       "      <td>8.0</td>\n",
       "      <td>46.0</td>\n",
       "      <td>25.0</td>\n",
       "      <td>50.0</td>\n",
       "    </tr>\n",
       "    <tr>\n",
       "      <th>1</th>\n",
       "      <td>P</td>\n",
       "      <td>2013000000006</td>\n",
       "      <td>9</td>\n",
       "      <td>02</td>\n",
       "      <td>11606</td>\n",
       "      <td>4</td>\n",
       "      <td>53</td>\n",
       "      <td>1061971</td>\n",
       "      <td>22.0</td>\n",
       "      <td>66.0</td>\n",
       "      <td>...</td>\n",
       "      <td>49.0</td>\n",
       "      <td>21.0</td>\n",
       "      <td>38.0</td>\n",
       "      <td>20.0</td>\n",
       "      <td>7.0</td>\n",
       "      <td>25.0</td>\n",
       "      <td>8.0</td>\n",
       "      <td>41.0</td>\n",
       "      <td>22.0</td>\n",
       "      <td>47.0</td>\n",
       "    </tr>\n",
       "    <tr>\n",
       "      <th>2</th>\n",
       "      <td>P</td>\n",
       "      <td>2013000000012</td>\n",
       "      <td>9</td>\n",
       "      <td>01</td>\n",
       "      <td>10100</td>\n",
       "      <td>4</td>\n",
       "      <td>53</td>\n",
       "      <td>1061971</td>\n",
       "      <td>22.0</td>\n",
       "      <td>72.0</td>\n",
       "      <td>...</td>\n",
       "      <td>24.0</td>\n",
       "      <td>22.0</td>\n",
       "      <td>25.0</td>\n",
       "      <td>7.0</td>\n",
       "      <td>21.0</td>\n",
       "      <td>35.0</td>\n",
       "      <td>6.0</td>\n",
       "      <td>22.0</td>\n",
       "      <td>6.0</td>\n",
       "      <td>37.0</td>\n",
       "    </tr>\n",
       "    <tr>\n",
       "      <th>3</th>\n",
       "      <td>P</td>\n",
       "      <td>2013000000012</td>\n",
       "      <td>9</td>\n",
       "      <td>02</td>\n",
       "      <td>10100</td>\n",
       "      <td>4</td>\n",
       "      <td>53</td>\n",
       "      <td>1061971</td>\n",
       "      <td>19.0</td>\n",
       "      <td>64.0</td>\n",
       "      <td>...</td>\n",
       "      <td>21.0</td>\n",
       "      <td>18.0</td>\n",
       "      <td>19.0</td>\n",
       "      <td>7.0</td>\n",
       "      <td>17.0</td>\n",
       "      <td>29.0</td>\n",
       "      <td>6.0</td>\n",
       "      <td>19.0</td>\n",
       "      <td>6.0</td>\n",
       "      <td>29.0</td>\n",
       "    </tr>\n",
       "    <tr>\n",
       "      <th>4</th>\n",
       "      <td>P</td>\n",
       "      <td>2013000000038</td>\n",
       "      <td>9</td>\n",
       "      <td>01</td>\n",
       "      <td>11505</td>\n",
       "      <td>4</td>\n",
       "      <td>53</td>\n",
       "      <td>1061971</td>\n",
       "      <td>4.0</td>\n",
       "      <td>52.0</td>\n",
       "      <td>...</td>\n",
       "      <td>4.0</td>\n",
       "      <td>1.0</td>\n",
       "      <td>2.0</td>\n",
       "      <td>8.0</td>\n",
       "      <td>8.0</td>\n",
       "      <td>1.0</td>\n",
       "      <td>4.0</td>\n",
       "      <td>6.0</td>\n",
       "      <td>1.0</td>\n",
       "      <td>4.0</td>\n",
       "    </tr>\n",
       "  </tbody>\n",
       "</table>\n",
       "<p>5 rows × 286 columns</p>\n",
       "</div>"
      ],
      "text/plain": [
       "  rt       serialno division sporder   puma region  st   adjinc  pwgtp  agep  \\\n",
       "0  P  2013000000006        9      01  11606      4  53  1061971   27.0  68.0   \n",
       "1  P  2013000000006        9      02  11606      4  53  1061971   22.0  66.0   \n",
       "2  P  2013000000012        9      01  10100      4  53  1061971   22.0  72.0   \n",
       "3  P  2013000000012        9      02  10100      4  53  1061971   19.0  64.0   \n",
       "4  P  2013000000038        9      01  11505      4  53  1061971    4.0  52.0   \n",
       "\n",
       "   ...  pwgtp71  pwgtp72 pwgtp73 pwgtp74 pwgtp75 pwgtp76 pwgtp77 pwgtp78  \\\n",
       "0  ...     53.0     24.0    39.0    24.0     7.0    27.0     8.0    46.0   \n",
       "1  ...     49.0     21.0    38.0    20.0     7.0    25.0     8.0    41.0   \n",
       "2  ...     24.0     22.0    25.0     7.0    21.0    35.0     6.0    22.0   \n",
       "3  ...     21.0     18.0    19.0     7.0    17.0    29.0     6.0    19.0   \n",
       "4  ...      4.0      1.0     2.0     8.0     8.0     1.0     4.0     6.0   \n",
       "\n",
       "  pwgtp79 pwgtp80  \n",
       "0    25.0    50.0  \n",
       "1    22.0    47.0  \n",
       "2     6.0    37.0  \n",
       "3     6.0    29.0  \n",
       "4     1.0     4.0  \n",
       "\n",
       "[5 rows x 286 columns]"
      ]
     },
     "execution_count": 9,
     "metadata": {},
     "output_type": "execute_result"
    }
   ],
   "source": [
    "df_pums_2017.head()"
   ]
  },
  {
   "cell_type": "markdown",
   "metadata": {},
   "source": [
    " "
   ]
  },
  {
   "cell_type": "markdown",
   "metadata": {},
   "source": [
    "# Data Exploration"
   ]
  },
  {
   "cell_type": "markdown",
   "metadata": {},
   "source": [
    "### Going through & understanding columns"
   ]
  },
  {
   "cell_type": "markdown",
   "metadata": {},
   "source": [
    "#### sch = School enrollment\n",
    "b .N/A (less than 3 years old)\\\n",
    "1 .No, has not attended in the last 3 months <-- this is what we're looking\\\n",
    "2 .Yes, public school or public college\\\n",
    "3 .Yes, private school or college or home school"
   ]
  },
  {
   "cell_type": "code",
   "execution_count": 20,
   "metadata": {},
   "outputs": [
    {
     "data": {
      "text/plain": [
       "1    264532\n",
       "2     69521\n",
       "3     13390\n",
       "Name: sch, dtype: int64"
      ]
     },
     "execution_count": 20,
     "metadata": {},
     "output_type": "execute_result"
    }
   ],
   "source": [
    "df_pums_2017.sch.value_counts()"
   ]
  },
  {
   "cell_type": "markdown",
   "metadata": {},
   "source": [
    " "
   ]
  },
  {
   "cell_type": "markdown",
   "metadata": {},
   "source": [
    "#### esr = Employment status recode\n",
    "\n",
    "Looking for: 3 and 6\n",
    "\n",
    "b .N/A (less than 16 years old)\\\n",
    "1 .Civilian employed, at work\\\n",
    "2 .Civilian employed, with a job but not at work\\\n",
    "3 .Unemployed <-- this is what we're interested in\\\n",
    "4 .Armed forces, at work\\\n",
    "5 .Armed forces, with a job but not at work\\\n",
    "6 .Not in labor force <-- this is what we're interested in"
   ]
  },
  {
   "cell_type": "markdown",
   "metadata": {},
   "source": [
    " "
   ]
  },
  {
   "cell_type": "code",
   "execution_count": 21,
   "metadata": {},
   "outputs": [
    {
     "data": {
      "text/plain": [
       "1    160061\n",
       "6    115658\n",
       "3     10134\n",
       "2      3513\n",
       "4      2492\n",
       "5         7\n",
       "Name: esr, dtype: int64"
      ]
     },
     "execution_count": 21,
     "metadata": {},
     "output_type": "execute_result"
    }
   ],
   "source": [
    "df_pums_2017.esr.value_counts()"
   ]
  },
  {
   "cell_type": "markdown",
   "metadata": {},
   "source": [
    " "
   ]
  },
  {
   "cell_type": "markdown",
   "metadata": {},
   "source": [
    "#### puma = Public use microdata area code\n",
    "\n",
    "53 11610\tKing County (Central)--Renton City, Fairwood, Bryn Mawr & Skyway PUMA\\\n",
    "53 11611\tKing County (West Central)--Burien, SeaTac, Tukwila Cities & White Center PUMA\\\n",
    "53 11612\tKing County (Far Southwest)--Federal Way, Des Moines Cities & Vashon Island PUMA\\\n",
    "53 11613\tKing County (Southwest Central)--Kent City PUMA\\\n",
    "53 11614\tKing County (Southwest)--Auburn City & Lakeland PUMA\\\n",
    "53 11615\tKing County (Southeast)--Maple Valley, Covington & Enumclaw Cities PUMA"
   ]
  },
  {
   "cell_type": "code",
   "execution_count": 22,
   "metadata": {},
   "outputs": [
    {
     "data": {
      "text/plain": [
       "10200    18484\n",
       "11505     9375\n",
       "10100     9168\n",
       "10600     8340\n",
       "11801     8301\n",
       "10400     8233\n",
       "11300     7463\n",
       "11608     7390\n",
       "11705     7366\n",
       "11000     7323\n",
       "11609     7027\n",
       "11706     7021\n",
       "10902     6868\n",
       "11104     6785\n",
       "11602     6686\n",
       "11401     6623\n",
       "10800     6595\n",
       "11607     6569\n",
       "10502     6386\n",
       "11601     6348\n",
       "11605     6309\n",
       "11200     6306\n",
       "11802     6154\n",
       "11501     6126\n",
       "11101     6123\n",
       "11615     6119\n",
       "11611     6032\n",
       "11606     5974\n",
       "10501     5958\n",
       "11900     5938\n",
       "11704     5925\n",
       "11614     5911\n",
       "11506     5882\n",
       "10503     5806\n",
       "11610     5651\n",
       "11504     5613\n",
       "11502     5609\n",
       "11616     5568\n",
       "10703     5543\n",
       "11102     5510\n",
       "11402     5451\n",
       "11507     5448\n",
       "10504     5416\n",
       "11613     5371\n",
       "10300     5342\n",
       "11103     5255\n",
       "11701     5252\n",
       "11703     5237\n",
       "11503     5197\n",
       "11603     5067\n",
       "11612     5061\n",
       "11604     5057\n",
       "11702     5049\n",
       "10701     5022\n",
       "10901     4856\n",
       "10702     4586\n",
       "Name: puma, dtype: int64"
      ]
     },
     "execution_count": 22,
     "metadata": {},
     "output_type": "execute_result"
    }
   ],
   "source": [
    "df_pums_2017.puma.value_counts()"
   ]
  },
  {
   "cell_type": "markdown",
   "metadata": {},
   "source": [
    " "
   ]
  },
  {
   "cell_type": "markdown",
   "metadata": {},
   "source": [
    "#### schl = educational attainment\n",
    "\n",
    "01 .No schooling completed\\\n",
    "02 .Nursery school, preschool\\\n",
    "03 .Kindergarten\\\n",
    "04 .Grade 1\\\n",
    "05 .Grade 2\\\n",
    "06 .Grade 3\\\n",
    "07 .Grade 4\\\n",
    "08 .Grade 5\\\n",
    "09 .Grade 6\\\n",
    "10 .Grade 7\\\n",
    "11 .Grade 8\\\n",
    "12 .Grade 9\\\n",
    "13 .Grade 10\\\n",
    "14 .Grade 11\\\n",
    "15 .12th grade - no diploma\\\n",
    "16 .Regular high school diploma\\\n",
    "17 .GED or alternative credential\\\n",
    "18 .Some college, but less than 1 year\\\n",
    "19 .1 or more years of college credit, no degree\\\n",
    "20 .Associate's degree\\\n",
    "21 .Bachelor's degree\\\n",
    "22 .Master's degree\\\n",
    "23 .Professional degree beyond a bachelor's degree\\\n",
    "24 .Doctorate degree"
   ]
  },
  {
   "cell_type": "code",
   "execution_count": 24,
   "metadata": {},
   "outputs": [
    {
     "data": {
      "text/plain": [
       "21    57830\n",
       "16    55002\n",
       "19    48467\n",
       "20    27153\n",
       "18    24560\n",
       "22    23770\n",
       "17    11359\n",
       "01    11138\n",
       "14     8862\n",
       "13     7590\n",
       "12     6714\n",
       "11     6479\n",
       "09     5956\n",
       "23     5728\n",
       "15     5395\n",
       "02     5181\n",
       "10     4840\n",
       "06     4815\n",
       "08     4738\n",
       "07     4596\n",
       "05     4556\n",
       "03     4501\n",
       "04     4305\n",
       "24     3908\n",
       "Name: schl, dtype: int64"
      ]
     },
     "execution_count": 24,
     "metadata": {},
     "output_type": "execute_result"
    }
   ],
   "source": [
    "df_pums_2017.schl.value_counts()"
   ]
  },
  {
   "cell_type": "markdown",
   "metadata": {},
   "source": [
    " "
   ]
  },
  {
   "cell_type": "markdown",
   "metadata": {},
   "source": [
    "#### sex\n",
    "\n",
    "1 .male\\\n",
    "2 .female"
   ]
  },
  {
   "cell_type": "code",
   "execution_count": 10,
   "metadata": {},
   "outputs": [],
   "source": [
    "#filtering dataframe to include only columns we're interested in\n",
    "\n",
    "df_pums_2017_filterd = df_pums_2017.filter(['puma', 'pwgtp', 'agep', 'nwav', 'nwlk', 'sch', 'schl',\n",
    "                                  'sex', 'esr', 'pobp', 'rac1p', 'rac2p', 'rac3p', 'racaian', 'racasn',\n",
    "                                  'racblk', 'racnh', 'racwht', 'waob'], axis = 1)"
   ]
  },
  {
   "cell_type": "code",
   "execution_count": 11,
   "metadata": {},
   "outputs": [],
   "source": [
    "df_pums_2017_filterd2 = df_pums_2017_filterd.filter(['puma', 'pwgtp', 'agep', 'sch', 'schl', 'esr'])"
   ]
  },
  {
   "cell_type": "code",
   "execution_count": 13,
   "metadata": {},
   "outputs": [
    {
     "data": {
      "text/html": [
       "<div>\n",
       "<style scoped>\n",
       "    .dataframe tbody tr th:only-of-type {\n",
       "        vertical-align: middle;\n",
       "    }\n",
       "\n",
       "    .dataframe tbody tr th {\n",
       "        vertical-align: top;\n",
       "    }\n",
       "\n",
       "    .dataframe thead th {\n",
       "        text-align: right;\n",
       "    }\n",
       "</style>\n",
       "<table border=\"1\" class=\"dataframe\">\n",
       "  <thead>\n",
       "    <tr style=\"text-align: right;\">\n",
       "      <th></th>\n",
       "      <th>puma</th>\n",
       "      <th>pwgtp</th>\n",
       "      <th>agep</th>\n",
       "      <th>sch</th>\n",
       "      <th>schl</th>\n",
       "      <th>esr</th>\n",
       "    </tr>\n",
       "  </thead>\n",
       "  <tbody>\n",
       "    <tr>\n",
       "      <th>0</th>\n",
       "      <td>11606</td>\n",
       "      <td>27.0</td>\n",
       "      <td>68.0</td>\n",
       "      <td>1</td>\n",
       "      <td>21</td>\n",
       "      <td>6</td>\n",
       "    </tr>\n",
       "    <tr>\n",
       "      <th>1</th>\n",
       "      <td>11606</td>\n",
       "      <td>22.0</td>\n",
       "      <td>66.0</td>\n",
       "      <td>1</td>\n",
       "      <td>22</td>\n",
       "      <td>6</td>\n",
       "    </tr>\n",
       "    <tr>\n",
       "      <th>2</th>\n",
       "      <td>10100</td>\n",
       "      <td>22.0</td>\n",
       "      <td>72.0</td>\n",
       "      <td>1</td>\n",
       "      <td>19</td>\n",
       "      <td>6</td>\n",
       "    </tr>\n",
       "    <tr>\n",
       "      <th>3</th>\n",
       "      <td>10100</td>\n",
       "      <td>19.0</td>\n",
       "      <td>64.0</td>\n",
       "      <td>1</td>\n",
       "      <td>21</td>\n",
       "      <td>6</td>\n",
       "    </tr>\n",
       "    <tr>\n",
       "      <th>4</th>\n",
       "      <td>11505</td>\n",
       "      <td>4.0</td>\n",
       "      <td>52.0</td>\n",
       "      <td>1</td>\n",
       "      <td>21</td>\n",
       "      <td>1</td>\n",
       "    </tr>\n",
       "  </tbody>\n",
       "</table>\n",
       "</div>"
      ],
      "text/plain": [
       "    puma  pwgtp  agep sch schl esr\n",
       "0  11606   27.0  68.0   1   21   6\n",
       "1  11606   22.0  66.0   1   22   6\n",
       "2  10100   22.0  72.0   1   19   6\n",
       "3  10100   19.0  64.0   1   21   6\n",
       "4  11505    4.0  52.0   1   21   1"
      ]
     },
     "execution_count": 13,
     "metadata": {},
     "output_type": "execute_result"
    }
   ],
   "source": [
    "df_pums_2017_filterd2.head()"
   ]
  },
  {
   "cell_type": "code",
   "execution_count": null,
   "metadata": {},
   "outputs": [],
   "source": [
    "df_pums_2017_filterd2.groupby()"
   ]
  },
  {
   "cell_type": "code",
   "execution_count": 13,
   "metadata": {},
   "outputs": [
    {
     "data": {
      "text/html": [
       "<div>\n",
       "<style scoped>\n",
       "    .dataframe tbody tr th:only-of-type {\n",
       "        vertical-align: middle;\n",
       "    }\n",
       "\n",
       "    .dataframe tbody tr th {\n",
       "        vertical-align: top;\n",
       "    }\n",
       "\n",
       "    .dataframe thead th {\n",
       "        text-align: right;\n",
       "    }\n",
       "</style>\n",
       "<table border=\"1\" class=\"dataframe\">\n",
       "  <thead>\n",
       "    <tr style=\"text-align: right;\">\n",
       "      <th></th>\n",
       "      <th>puma</th>\n",
       "      <th>pwgtp</th>\n",
       "      <th>agep</th>\n",
       "      <th>nwav</th>\n",
       "      <th>nwlk</th>\n",
       "      <th>sch</th>\n",
       "      <th>schl</th>\n",
       "      <th>sex</th>\n",
       "      <th>esr</th>\n",
       "      <th>pobp</th>\n",
       "      <th>rac1p</th>\n",
       "      <th>rac2p</th>\n",
       "      <th>rac3p</th>\n",
       "      <th>racaian</th>\n",
       "      <th>racasn</th>\n",
       "      <th>racblk</th>\n",
       "      <th>racnh</th>\n",
       "      <th>racwht</th>\n",
       "      <th>waob</th>\n",
       "    </tr>\n",
       "  </thead>\n",
       "  <tbody>\n",
       "    <tr>\n",
       "      <th>0</th>\n",
       "      <td>11606</td>\n",
       "      <td>27.0</td>\n",
       "      <td>68.0</td>\n",
       "      <td>5</td>\n",
       "      <td>2</td>\n",
       "      <td>1</td>\n",
       "      <td>21</td>\n",
       "      <td>1</td>\n",
       "      <td>6</td>\n",
       "      <td>012</td>\n",
       "      <td>1</td>\n",
       "      <td>01</td>\n",
       "      <td>001</td>\n",
       "      <td>0</td>\n",
       "      <td>0</td>\n",
       "      <td>0</td>\n",
       "      <td>0</td>\n",
       "      <td>1</td>\n",
       "      <td>1</td>\n",
       "    </tr>\n",
       "    <tr>\n",
       "      <th>1</th>\n",
       "      <td>11606</td>\n",
       "      <td>22.0</td>\n",
       "      <td>66.0</td>\n",
       "      <td>5</td>\n",
       "      <td>2</td>\n",
       "      <td>1</td>\n",
       "      <td>22</td>\n",
       "      <td>2</td>\n",
       "      <td>6</td>\n",
       "      <td>027</td>\n",
       "      <td>1</td>\n",
       "      <td>01</td>\n",
       "      <td>001</td>\n",
       "      <td>0</td>\n",
       "      <td>0</td>\n",
       "      <td>0</td>\n",
       "      <td>0</td>\n",
       "      <td>1</td>\n",
       "      <td>1</td>\n",
       "    </tr>\n",
       "    <tr>\n",
       "      <th>2</th>\n",
       "      <td>10100</td>\n",
       "      <td>22.0</td>\n",
       "      <td>72.0</td>\n",
       "      <td>5</td>\n",
       "      <td>2</td>\n",
       "      <td>1</td>\n",
       "      <td>19</td>\n",
       "      <td>1</td>\n",
       "      <td>6</td>\n",
       "      <td>301</td>\n",
       "      <td>1</td>\n",
       "      <td>01</td>\n",
       "      <td>001</td>\n",
       "      <td>0</td>\n",
       "      <td>0</td>\n",
       "      <td>0</td>\n",
       "      <td>0</td>\n",
       "      <td>1</td>\n",
       "      <td>7</td>\n",
       "    </tr>\n",
       "    <tr>\n",
       "      <th>3</th>\n",
       "      <td>10100</td>\n",
       "      <td>19.0</td>\n",
       "      <td>64.0</td>\n",
       "      <td>5</td>\n",
       "      <td>2</td>\n",
       "      <td>1</td>\n",
       "      <td>21</td>\n",
       "      <td>2</td>\n",
       "      <td>6</td>\n",
       "      <td>017</td>\n",
       "      <td>1</td>\n",
       "      <td>01</td>\n",
       "      <td>001</td>\n",
       "      <td>0</td>\n",
       "      <td>0</td>\n",
       "      <td>0</td>\n",
       "      <td>0</td>\n",
       "      <td>1</td>\n",
       "      <td>1</td>\n",
       "    </tr>\n",
       "    <tr>\n",
       "      <th>4</th>\n",
       "      <td>11505</td>\n",
       "      <td>4.0</td>\n",
       "      <td>52.0</td>\n",
       "      <td>5</td>\n",
       "      <td>3</td>\n",
       "      <td>1</td>\n",
       "      <td>21</td>\n",
       "      <td>1</td>\n",
       "      <td>1</td>\n",
       "      <td>053</td>\n",
       "      <td>1</td>\n",
       "      <td>01</td>\n",
       "      <td>001</td>\n",
       "      <td>0</td>\n",
       "      <td>0</td>\n",
       "      <td>0</td>\n",
       "      <td>0</td>\n",
       "      <td>1</td>\n",
       "      <td>1</td>\n",
       "    </tr>\n",
       "  </tbody>\n",
       "</table>\n",
       "</div>"
      ],
      "text/plain": [
       "    puma  pwgtp  agep nwav nwlk sch schl sex esr pobp rac1p rac2p rac3p  \\\n",
       "0  11606   27.0  68.0    5    2   1   21   1   6  012     1    01   001   \n",
       "1  11606   22.0  66.0    5    2   1   22   2   6  027     1    01   001   \n",
       "2  10100   22.0  72.0    5    2   1   19   1   6  301     1    01   001   \n",
       "3  10100   19.0  64.0    5    2   1   21   2   6  017     1    01   001   \n",
       "4  11505    4.0  52.0    5    3   1   21   1   1  053     1    01   001   \n",
       "\n",
       "  racaian racasn racblk racnh racwht waob  \n",
       "0       0      0      0     0      1    1  \n",
       "1       0      0      0     0      1    1  \n",
       "2       0      0      0     0      1    7  \n",
       "3       0      0      0     0      1    1  \n",
       "4       0      0      0     0      1    1  "
      ]
     },
     "execution_count": 13,
     "metadata": {},
     "output_type": "execute_result"
    }
   ],
   "source": [
    "df_pums_2017_filterd.head()"
   ]
  },
  {
   "cell_type": "markdown",
   "metadata": {},
   "source": [
    "## Data Preparation & Analysis\n",
    "#### df_skc_oy_2017"
   ]
  },
  {
   "cell_type": "code",
   "execution_count": 83,
   "metadata": {},
   "outputs": [],
   "source": [
    "#turning puma column into datatype 'int', so it can be filtered\n",
    "\n",
    "df_pums_2017_filterd['puma']=df_pums_2017_filterd.puma.astype('int64')"
   ]
  },
  {
   "cell_type": "code",
   "execution_count": 66,
   "metadata": {},
   "outputs": [],
   "source": [
    "esr = ['3', '6']\n",
    "pumas_kc = [11606, 11607, 11608, 11609, 11610, 11611, 11612, 11613, 11614, 11615, 11616]\n",
    "pumas_skc = [11610, 11611, 11612, 11613, 11614, 11615]\n",
    "schl_no_dipl = ['01', '02', '03', '04', '05', '06', '07', '08', '09', '10', '11', '12', '13', '14', '15']\n",
    "schl_dipl_ged = ['16', '17']\n",
    "schl_coll_nodeg = ['18','19']\n",
    "schl_coll_deg = ['20', '21', '22', '23', '24']"
   ]
  },
  {
   "cell_type": "code",
   "execution_count": 22,
   "metadata": {},
   "outputs": [],
   "source": [
    "#creating dataframe with oy conditions from sample dataset for only south king county\n",
    "\n",
    "df_skc_oy_2017 = df_pums_2017_filterd[df_pums_2017_filterd.agep.between(16, 24) & \n",
    "                                  df_pums_2017_filterd.puma.isin(pumas_skc) & \n",
    "                                  df_pums_2017_filterd.esr.isin(esr) & \n",
    "                                  (df_pums_2017_filterd.sch == '1')].sort_values('agep')"
   ]
  },
  {
   "cell_type": "code",
   "execution_count": 23,
   "metadata": {},
   "outputs": [
    {
     "data": {
      "text/html": [
       "<div>\n",
       "<style scoped>\n",
       "    .dataframe tbody tr th:only-of-type {\n",
       "        vertical-align: middle;\n",
       "    }\n",
       "\n",
       "    .dataframe tbody tr th {\n",
       "        vertical-align: top;\n",
       "    }\n",
       "\n",
       "    .dataframe thead th {\n",
       "        text-align: right;\n",
       "    }\n",
       "</style>\n",
       "<table border=\"1\" class=\"dataframe\">\n",
       "  <thead>\n",
       "    <tr style=\"text-align: right;\">\n",
       "      <th></th>\n",
       "      <th>puma</th>\n",
       "      <th>pwgtp</th>\n",
       "      <th>agep</th>\n",
       "      <th>nwav</th>\n",
       "      <th>nwlk</th>\n",
       "      <th>sch</th>\n",
       "      <th>schl</th>\n",
       "      <th>sex</th>\n",
       "      <th>esr</th>\n",
       "      <th>pobp</th>\n",
       "      <th>rac1p</th>\n",
       "      <th>rac2p</th>\n",
       "      <th>rac3p</th>\n",
       "      <th>racaian</th>\n",
       "      <th>racasn</th>\n",
       "      <th>racblk</th>\n",
       "      <th>racnh</th>\n",
       "      <th>racwht</th>\n",
       "      <th>waob</th>\n",
       "    </tr>\n",
       "  </thead>\n",
       "  <tbody>\n",
       "    <tr>\n",
       "      <th>203547</th>\n",
       "      <td>11612</td>\n",
       "      <td>28.0</td>\n",
       "      <td>16.0</td>\n",
       "      <td>5</td>\n",
       "      <td>2</td>\n",
       "      <td>1</td>\n",
       "      <td>12</td>\n",
       "      <td>1</td>\n",
       "      <td>6</td>\n",
       "      <td>053</td>\n",
       "      <td>1</td>\n",
       "      <td>01</td>\n",
       "      <td>001</td>\n",
       "      <td>0</td>\n",
       "      <td>0</td>\n",
       "      <td>0</td>\n",
       "      <td>0</td>\n",
       "      <td>1</td>\n",
       "      <td>1</td>\n",
       "    </tr>\n",
       "    <tr>\n",
       "      <th>202778</th>\n",
       "      <td>11614</td>\n",
       "      <td>22.0</td>\n",
       "      <td>16.0</td>\n",
       "      <td>5</td>\n",
       "      <td>2</td>\n",
       "      <td>1</td>\n",
       "      <td>13</td>\n",
       "      <td>2</td>\n",
       "      <td>6</td>\n",
       "      <td>006</td>\n",
       "      <td>1</td>\n",
       "      <td>01</td>\n",
       "      <td>001</td>\n",
       "      <td>0</td>\n",
       "      <td>0</td>\n",
       "      <td>0</td>\n",
       "      <td>0</td>\n",
       "      <td>1</td>\n",
       "      <td>1</td>\n",
       "    </tr>\n",
       "    <tr>\n",
       "      <th>171097</th>\n",
       "      <td>11615</td>\n",
       "      <td>12.0</td>\n",
       "      <td>16.0</td>\n",
       "      <td>5</td>\n",
       "      <td>2</td>\n",
       "      <td>1</td>\n",
       "      <td>12</td>\n",
       "      <td>2</td>\n",
       "      <td>6</td>\n",
       "      <td>053</td>\n",
       "      <td>1</td>\n",
       "      <td>01</td>\n",
       "      <td>001</td>\n",
       "      <td>0</td>\n",
       "      <td>0</td>\n",
       "      <td>0</td>\n",
       "      <td>0</td>\n",
       "      <td>1</td>\n",
       "      <td>1</td>\n",
       "    </tr>\n",
       "    <tr>\n",
       "      <th>170532</th>\n",
       "      <td>11614</td>\n",
       "      <td>12.0</td>\n",
       "      <td>16.0</td>\n",
       "      <td>5</td>\n",
       "      <td>2</td>\n",
       "      <td>1</td>\n",
       "      <td>17</td>\n",
       "      <td>1</td>\n",
       "      <td>6</td>\n",
       "      <td>164</td>\n",
       "      <td>1</td>\n",
       "      <td>01</td>\n",
       "      <td>001</td>\n",
       "      <td>0</td>\n",
       "      <td>0</td>\n",
       "      <td>0</td>\n",
       "      <td>0</td>\n",
       "      <td>1</td>\n",
       "      <td>5</td>\n",
       "    </tr>\n",
       "    <tr>\n",
       "      <th>262050</th>\n",
       "      <td>11610</td>\n",
       "      <td>28.0</td>\n",
       "      <td>16.0</td>\n",
       "      <td>5</td>\n",
       "      <td>2</td>\n",
       "      <td>1</td>\n",
       "      <td>14</td>\n",
       "      <td>1</td>\n",
       "      <td>6</td>\n",
       "      <td>053</td>\n",
       "      <td>1</td>\n",
       "      <td>01</td>\n",
       "      <td>001</td>\n",
       "      <td>0</td>\n",
       "      <td>0</td>\n",
       "      <td>0</td>\n",
       "      <td>0</td>\n",
       "      <td>1</td>\n",
       "      <td>1</td>\n",
       "    </tr>\n",
       "  </tbody>\n",
       "</table>\n",
       "</div>"
      ],
      "text/plain": [
       "         puma  pwgtp  agep nwav nwlk sch schl sex esr pobp rac1p rac2p rac3p  \\\n",
       "203547  11612   28.0  16.0    5    2   1   12   1   6  053     1    01   001   \n",
       "202778  11614   22.0  16.0    5    2   1   13   2   6  006     1    01   001   \n",
       "171097  11615   12.0  16.0    5    2   1   12   2   6  053     1    01   001   \n",
       "170532  11614   12.0  16.0    5    2   1   17   1   6  164     1    01   001   \n",
       "262050  11610   28.0  16.0    5    2   1   14   1   6  053     1    01   001   \n",
       "\n",
       "       racaian racasn racblk racnh racwht waob  \n",
       "203547       0      0      0     0      1    1  \n",
       "202778       0      0      0     0      1    1  \n",
       "171097       0      0      0     0      1    1  \n",
       "170532       0      0      0     0      1    5  \n",
       "262050       0      0      0     0      1    1  "
      ]
     },
     "execution_count": 23,
     "metadata": {},
     "output_type": "execute_result"
    }
   ],
   "source": [
    "df_skc_oy_2017.head()"
   ]
  },
  {
   "cell_type": "code",
   "execution_count": 24,
   "metadata": {},
   "outputs": [
    {
     "data": {
      "text/plain": [
       "(391, 19)"
      ]
     },
     "execution_count": 24,
     "metadata": {},
     "output_type": "execute_result"
    }
   ],
   "source": [
    "df_skc_oy_2017.shape"
   ]
  },
  {
   "cell_type": "code",
   "execution_count": 99,
   "metadata": {},
   "outputs": [
    {
     "name": "stdout",
     "output_type": "stream",
     "text": [
      "<class 'pandas.core.frame.DataFrame'>\n",
      "Int64Index: 391 entries, 88069 to 24677\n",
      "Data columns (total 19 columns):\n",
      " #   Column   Non-Null Count  Dtype  \n",
      "---  ------   --------------  -----  \n",
      " 0   puma     391 non-null    int64  \n",
      " 1   pwgtp    391 non-null    float64\n",
      " 2   agep     391 non-null    float64\n",
      " 3   nwav     391 non-null    object \n",
      " 4   nwlk     391 non-null    object \n",
      " 5   sch      391 non-null    object \n",
      " 6   schl     391 non-null    object \n",
      " 7   sex      391 non-null    object \n",
      " 8   esr      391 non-null    object \n",
      " 9   pobp     391 non-null    object \n",
      " 10  rac1p    391 non-null    object \n",
      " 11  rac2p    391 non-null    object \n",
      " 12  rac3p    391 non-null    object \n",
      " 13  racaian  391 non-null    object \n",
      " 14  racasn   391 non-null    object \n",
      " 15  racblk   391 non-null    object \n",
      " 16  racnh    391 non-null    object \n",
      " 17  racwht   391 non-null    object \n",
      " 18  waob     391 non-null    object \n",
      "dtypes: float64(2), int64(1), object(16)\n",
      "memory usage: 61.1+ KB\n"
     ]
    }
   ],
   "source": [
    "#checking for NaNs\n",
    "\n",
    "df_skc_oy_2017.info()"
   ]
  },
  {
   "cell_type": "code",
   "execution_count": 27,
   "metadata": {},
   "outputs": [],
   "source": [
    "#creating dataframe with oy conditions from sample dataset for all of king county\n",
    "\n",
    "df_kc_oy_2017 = df_pums_2017_filterd[df_pums_2017_filterd.agep.between(16, 24) & \n",
    "                                  df_pums_2017_filterd.puma.isin(pumas_kc) & \n",
    "                                  df_pums_2017_filterd.esr.isin(esr) & \n",
    "                                  (df_pums_2017_filterd.sch == '1')].sort_values('agep')"
   ]
  },
  {
   "cell_type": "code",
   "execution_count": 28,
   "metadata": {},
   "outputs": [
    {
     "data": {
      "text/plain": [
       "(594, 19)"
      ]
     },
     "execution_count": 28,
     "metadata": {},
     "output_type": "execute_result"
    }
   ],
   "source": [
    "df_kc_oy_2017.shape"
   ]
  },
  {
   "cell_type": "code",
   "execution_count": 29,
   "metadata": {},
   "outputs": [
    {
     "data": {
      "text/plain": [
       "15146.0"
      ]
     },
     "execution_count": 29,
     "metadata": {},
     "output_type": "execute_result"
    }
   ],
   "source": [
    "#checking king county oy total by adding up pwgtp column (person weight to total population)\n",
    "\n",
    "df_kc_oy_2017.pwgtp.sum()"
   ]
  },
  {
   "cell_type": "code",
   "execution_count": 31,
   "metadata": {},
   "outputs": [
    {
     "data": {
      "text/plain": [
       "10614.0"
      ]
     },
     "execution_count": 31,
     "metadata": {},
     "output_type": "execute_result"
    }
   ],
   "source": [
    "#checking south king county oy total by adding up pwgtp column (person weight to total population)\n",
    "\n",
    "df_skc_oy_2017.pwgtp.sum()"
   ]
  },
  {
   "cell_type": "code",
   "execution_count": 101,
   "metadata": {},
   "outputs": [
    {
     "data": {
      "text/plain": [
       "puma\n",
       "11610    1853.0\n",
       "11611    2038.0\n",
       "11612    1977.0\n",
       "11613    2006.0\n",
       "11614    1530.0\n",
       "11615    1210.0\n",
       "Name: pwgtp, dtype: float64"
      ]
     },
     "execution_count": 101,
     "metadata": {},
     "output_type": "execute_result"
    }
   ],
   "source": [
    "#oy breakdown by pumas within south king county\n",
    "\n",
    "df_skc_oy_2017.groupby('puma')['pwgtp'].sum()"
   ]
  },
  {
   "cell_type": "markdown",
   "metadata": {},
   "source": [
    " "
   ]
  },
  {
   "cell_type": "code",
   "execution_count": 102,
   "metadata": {},
   "outputs": [
    {
     "data": {
      "text/plain": [
       "racwht\n",
       "0    4427.0\n",
       "1    6187.0\n",
       "Name: pwgtp, dtype: float64"
      ]
     },
     "execution_count": 102,
     "metadata": {},
     "output_type": "execute_result"
    }
   ],
   "source": [
    "#checking the increase in white race\n",
    "\n",
    "df_skc_oy_2017.groupby('racwht')['pwgtp'].sum()"
   ]
  },
  {
   "cell_type": "code",
   "execution_count": 32,
   "metadata": {},
   "outputs": [
    {
     "data": {
      "text/plain": [
       "1    51.662404\n",
       "2    48.337596\n",
       "Name: sex, dtype: float64"
      ]
     },
     "execution_count": 32,
     "metadata": {},
     "output_type": "execute_result"
    }
   ],
   "source": [
    "#checking sex ratio\n",
    "\n",
    "df_skc_oy_2017.sex.value_counts(normalize=True) * 100"
   ]
  },
  {
   "cell_type": "markdown",
   "metadata": {},
   "source": [
    " "
   ]
  },
  {
   "cell_type": "markdown",
   "metadata": {},
   "source": [
    "#### Total 16 to 24 year population in south king county"
   ]
  },
  {
   "cell_type": "code",
   "execution_count": 138,
   "metadata": {},
   "outputs": [],
   "source": [
    "df_skc_16to24_2017 = df_pums_2017_filterd[df_pums_2017_filterd.agep.between(16, 24) & \n",
    "                                  df_pums_2017_filterd.puma.between(11610, 11615)].sort_values('agep')"
   ]
  },
  {
   "cell_type": "code",
   "execution_count": 139,
   "metadata": {},
   "outputs": [
    {
     "data": {
      "text/plain": [
       "85883.0"
      ]
     },
     "execution_count": 139,
     "metadata": {},
     "output_type": "execute_result"
    }
   ],
   "source": [
    "df_skc_16to24_2017.pwgtp.sum()"
   ]
  },
  {
   "cell_type": "markdown",
   "metadata": {},
   "source": [
    "***\n",
    "# PUMS_2016\n",
    "### Compare methodology to see if we get similar numbers"
   ]
  },
  {
   "cell_type": "code",
   "execution_count": 80,
   "metadata": {},
   "outputs": [
    {
     "data": {
      "text/html": [
       "<div>\n",
       "<style scoped>\n",
       "    .dataframe tbody tr th:only-of-type {\n",
       "        vertical-align: middle;\n",
       "    }\n",
       "\n",
       "    .dataframe tbody tr th {\n",
       "        vertical-align: top;\n",
       "    }\n",
       "\n",
       "    .dataframe thead th {\n",
       "        text-align: right;\n",
       "    }\n",
       "</style>\n",
       "<table border=\"1\" class=\"dataframe\">\n",
       "  <thead>\n",
       "    <tr style=\"text-align: right;\">\n",
       "      <th></th>\n",
       "      <th>RT</th>\n",
       "      <th>SERIALNO</th>\n",
       "      <th>SPORDER</th>\n",
       "      <th>PUMA</th>\n",
       "      <th>ST</th>\n",
       "      <th>ADJINC</th>\n",
       "      <th>PWGTP</th>\n",
       "      <th>AGEP</th>\n",
       "      <th>CIT</th>\n",
       "      <th>CITWP</th>\n",
       "      <th>...</th>\n",
       "      <th>PWGTP71</th>\n",
       "      <th>PWGTP72</th>\n",
       "      <th>PWGTP73</th>\n",
       "      <th>PWGTP74</th>\n",
       "      <th>PWGTP75</th>\n",
       "      <th>PWGTP76</th>\n",
       "      <th>PWGTP77</th>\n",
       "      <th>PWGTP78</th>\n",
       "      <th>PWGTP79</th>\n",
       "      <th>PWGTP80</th>\n",
       "    </tr>\n",
       "  </thead>\n",
       "  <tbody>\n",
       "    <tr>\n",
       "      <th>0</th>\n",
       "      <td>P</td>\n",
       "      <td>2012000000014</td>\n",
       "      <td>1</td>\n",
       "      <td>10502</td>\n",
       "      <td>53</td>\n",
       "      <td>1056030</td>\n",
       "      <td>10</td>\n",
       "      <td>72</td>\n",
       "      <td>1</td>\n",
       "      <td>NaN</td>\n",
       "      <td>...</td>\n",
       "      <td>4</td>\n",
       "      <td>11</td>\n",
       "      <td>3</td>\n",
       "      <td>11</td>\n",
       "      <td>10</td>\n",
       "      <td>12</td>\n",
       "      <td>20</td>\n",
       "      <td>11</td>\n",
       "      <td>20</td>\n",
       "      <td>16</td>\n",
       "    </tr>\n",
       "    <tr>\n",
       "      <th>1</th>\n",
       "      <td>P</td>\n",
       "      <td>2012000000058</td>\n",
       "      <td>1</td>\n",
       "      <td>11802</td>\n",
       "      <td>53</td>\n",
       "      <td>1056030</td>\n",
       "      <td>35</td>\n",
       "      <td>58</td>\n",
       "      <td>1</td>\n",
       "      <td>NaN</td>\n",
       "      <td>...</td>\n",
       "      <td>38</td>\n",
       "      <td>35</td>\n",
       "      <td>35</td>\n",
       "      <td>35</td>\n",
       "      <td>35</td>\n",
       "      <td>36</td>\n",
       "      <td>11</td>\n",
       "      <td>58</td>\n",
       "      <td>35</td>\n",
       "      <td>10</td>\n",
       "    </tr>\n",
       "    <tr>\n",
       "      <th>2</th>\n",
       "      <td>P</td>\n",
       "      <td>2012000000066</td>\n",
       "      <td>1</td>\n",
       "      <td>10200</td>\n",
       "      <td>53</td>\n",
       "      <td>1056030</td>\n",
       "      <td>3</td>\n",
       "      <td>65</td>\n",
       "      <td>1</td>\n",
       "      <td>NaN</td>\n",
       "      <td>...</td>\n",
       "      <td>6</td>\n",
       "      <td>3</td>\n",
       "      <td>3</td>\n",
       "      <td>2</td>\n",
       "      <td>3</td>\n",
       "      <td>3</td>\n",
       "      <td>1</td>\n",
       "      <td>3</td>\n",
       "      <td>6</td>\n",
       "      <td>1</td>\n",
       "    </tr>\n",
       "    <tr>\n",
       "      <th>3</th>\n",
       "      <td>P</td>\n",
       "      <td>2012000000108</td>\n",
       "      <td>1</td>\n",
       "      <td>11501</td>\n",
       "      <td>53</td>\n",
       "      <td>1056030</td>\n",
       "      <td>34</td>\n",
       "      <td>47</td>\n",
       "      <td>1</td>\n",
       "      <td>NaN</td>\n",
       "      <td>...</td>\n",
       "      <td>8</td>\n",
       "      <td>36</td>\n",
       "      <td>59</td>\n",
       "      <td>37</td>\n",
       "      <td>48</td>\n",
       "      <td>56</td>\n",
       "      <td>10</td>\n",
       "      <td>34</td>\n",
       "      <td>13</td>\n",
       "      <td>35</td>\n",
       "    </tr>\n",
       "    <tr>\n",
       "      <th>4</th>\n",
       "      <td>P</td>\n",
       "      <td>2012000000247</td>\n",
       "      <td>1</td>\n",
       "      <td>11609</td>\n",
       "      <td>53</td>\n",
       "      <td>1056030</td>\n",
       "      <td>18</td>\n",
       "      <td>51</td>\n",
       "      <td>1</td>\n",
       "      <td>NaN</td>\n",
       "      <td>...</td>\n",
       "      <td>5</td>\n",
       "      <td>16</td>\n",
       "      <td>29</td>\n",
       "      <td>20</td>\n",
       "      <td>35</td>\n",
       "      <td>33</td>\n",
       "      <td>5</td>\n",
       "      <td>17</td>\n",
       "      <td>4</td>\n",
       "      <td>16</td>\n",
       "    </tr>\n",
       "  </tbody>\n",
       "</table>\n",
       "<p>5 rows × 283 columns</p>\n",
       "</div>"
      ],
      "text/plain": [
       "  RT       SERIALNO  SPORDER   PUMA  ST   ADJINC  PWGTP  AGEP  CIT  CITWP  \\\n",
       "0  P  2012000000014        1  10502  53  1056030     10    72    1    NaN   \n",
       "1  P  2012000000058        1  11802  53  1056030     35    58    1    NaN   \n",
       "2  P  2012000000066        1  10200  53  1056030      3    65    1    NaN   \n",
       "3  P  2012000000108        1  11501  53  1056030     34    47    1    NaN   \n",
       "4  P  2012000000247        1  11609  53  1056030     18    51    1    NaN   \n",
       "\n",
       "   ...  PWGTP71  PWGTP72  PWGTP73  PWGTP74  PWGTP75  PWGTP76  PWGTP77  \\\n",
       "0  ...        4       11        3       11       10       12       20   \n",
       "1  ...       38       35       35       35       35       36       11   \n",
       "2  ...        6        3        3        2        3        3        1   \n",
       "3  ...        8       36       59       37       48       56       10   \n",
       "4  ...        5       16       29       20       35       33        5   \n",
       "\n",
       "   PWGTP78  PWGTP79  PWGTP80  \n",
       "0       11       20       16  \n",
       "1       58       35       10  \n",
       "2        3        6        1  \n",
       "3       34       13       35  \n",
       "4       17        4       16  \n",
       "\n",
       "[5 rows x 283 columns]"
      ]
     },
     "execution_count": 80,
     "metadata": {},
     "output_type": "execute_result"
    }
   ],
   "source": [
    "df_oy_2016 = pd.read_csv('../../data/2016_pums/ss16pwa.csv')\n",
    "df_oy_2016.head()"
   ]
  },
  {
   "cell_type": "code",
   "execution_count": 81,
   "metadata": {},
   "outputs": [
    {
     "name": "stdout",
     "output_type": "stream",
     "text": [
      "(353681, 283) (359075, 286)\n"
     ]
    }
   ],
   "source": [
    "#checking dataset size between 2016 and 2017\n",
    "\n",
    "print(df_oy_2016.shape, df_pums_2017.shape)"
   ]
  },
  {
   "cell_type": "code",
   "execution_count": 79,
   "metadata": {},
   "outputs": [],
   "source": [
    "#creating 2016 oy dataframe with our 2017 oy conditions (age, pumas, esr, sch)\n",
    "\n",
    "df_oy_2016_app = df_oy_2016[df_oy_2016.AGEP.between(16, 24) & \n",
    "           df_oy_2016.PUMA.between(11610, 11615) & \n",
    "           df_oy_2016.ESR.isin(esr) & \n",
    "           (df_oy_2016.SCH == 1)].sort_values('AGEP')"
   ]
  },
  {
   "cell_type": "code",
   "execution_count": 41,
   "metadata": {},
   "outputs": [
    {
     "data": {
      "text/html": [
       "<div>\n",
       "<style scoped>\n",
       "    .dataframe tbody tr th:only-of-type {\n",
       "        vertical-align: middle;\n",
       "    }\n",
       "\n",
       "    .dataframe tbody tr th {\n",
       "        vertical-align: top;\n",
       "    }\n",
       "\n",
       "    .dataframe thead th {\n",
       "        text-align: right;\n",
       "    }\n",
       "</style>\n",
       "<table border=\"1\" class=\"dataframe\">\n",
       "  <thead>\n",
       "    <tr style=\"text-align: right;\">\n",
       "      <th></th>\n",
       "      <th>RT</th>\n",
       "      <th>SERIALNO</th>\n",
       "      <th>SPORDER</th>\n",
       "      <th>PUMA</th>\n",
       "      <th>ST</th>\n",
       "      <th>ADJINC</th>\n",
       "      <th>PWGTP</th>\n",
       "      <th>AGEP</th>\n",
       "      <th>CIT</th>\n",
       "      <th>CITWP</th>\n",
       "      <th>...</th>\n",
       "      <th>PWGTP71</th>\n",
       "      <th>PWGTP72</th>\n",
       "      <th>PWGTP73</th>\n",
       "      <th>PWGTP74</th>\n",
       "      <th>PWGTP75</th>\n",
       "      <th>PWGTP76</th>\n",
       "      <th>PWGTP77</th>\n",
       "      <th>PWGTP78</th>\n",
       "      <th>PWGTP79</th>\n",
       "      <th>PWGTP80</th>\n",
       "    </tr>\n",
       "  </thead>\n",
       "  <tbody>\n",
       "    <tr>\n",
       "      <th>172472</th>\n",
       "      <td>P</td>\n",
       "      <td>2014000707906</td>\n",
       "      <td>3</td>\n",
       "      <td>11614</td>\n",
       "      <td>53</td>\n",
       "      <td>1022342</td>\n",
       "      <td>42</td>\n",
       "      <td>16</td>\n",
       "      <td>1</td>\n",
       "      <td>NaN</td>\n",
       "      <td>...</td>\n",
       "      <td>16</td>\n",
       "      <td>36</td>\n",
       "      <td>37</td>\n",
       "      <td>59</td>\n",
       "      <td>41</td>\n",
       "      <td>45</td>\n",
       "      <td>66</td>\n",
       "      <td>30</td>\n",
       "      <td>15</td>\n",
       "      <td>12</td>\n",
       "    </tr>\n",
       "    <tr>\n",
       "      <th>37820</th>\n",
       "      <td>P</td>\n",
       "      <td>2012000819734</td>\n",
       "      <td>4</td>\n",
       "      <td>11612</td>\n",
       "      <td>53</td>\n",
       "      <td>1056030</td>\n",
       "      <td>19</td>\n",
       "      <td>16</td>\n",
       "      <td>1</td>\n",
       "      <td>NaN</td>\n",
       "      <td>...</td>\n",
       "      <td>7</td>\n",
       "      <td>5</td>\n",
       "      <td>21</td>\n",
       "      <td>21</td>\n",
       "      <td>25</td>\n",
       "      <td>26</td>\n",
       "      <td>25</td>\n",
       "      <td>6</td>\n",
       "      <td>16</td>\n",
       "      <td>21</td>\n",
       "    </tr>\n",
       "    <tr>\n",
       "      <th>240397</th>\n",
       "      <td>P</td>\n",
       "      <td>2015000650843</td>\n",
       "      <td>3</td>\n",
       "      <td>11615</td>\n",
       "      <td>53</td>\n",
       "      <td>1013916</td>\n",
       "      <td>14</td>\n",
       "      <td>16</td>\n",
       "      <td>1</td>\n",
       "      <td>NaN</td>\n",
       "      <td>...</td>\n",
       "      <td>16</td>\n",
       "      <td>4</td>\n",
       "      <td>15</td>\n",
       "      <td>14</td>\n",
       "      <td>13</td>\n",
       "      <td>3</td>\n",
       "      <td>30</td>\n",
       "      <td>24</td>\n",
       "      <td>22</td>\n",
       "      <td>13</td>\n",
       "    </tr>\n",
       "    <tr>\n",
       "      <th>272079</th>\n",
       "      <td>P</td>\n",
       "      <td>2015001313106</td>\n",
       "      <td>4</td>\n",
       "      <td>11614</td>\n",
       "      <td>53</td>\n",
       "      <td>1013916</td>\n",
       "      <td>21</td>\n",
       "      <td>16</td>\n",
       "      <td>1</td>\n",
       "      <td>NaN</td>\n",
       "      <td>...</td>\n",
       "      <td>31</td>\n",
       "      <td>19</td>\n",
       "      <td>19</td>\n",
       "      <td>8</td>\n",
       "      <td>22</td>\n",
       "      <td>24</td>\n",
       "      <td>33</td>\n",
       "      <td>27</td>\n",
       "      <td>7</td>\n",
       "      <td>22</td>\n",
       "    </tr>\n",
       "    <tr>\n",
       "      <th>239832</th>\n",
       "      <td>P</td>\n",
       "      <td>2015000639047</td>\n",
       "      <td>5</td>\n",
       "      <td>11614</td>\n",
       "      <td>53</td>\n",
       "      <td>1013916</td>\n",
       "      <td>12</td>\n",
       "      <td>16</td>\n",
       "      <td>3</td>\n",
       "      <td>NaN</td>\n",
       "      <td>...</td>\n",
       "      <td>11</td>\n",
       "      <td>11</td>\n",
       "      <td>23</td>\n",
       "      <td>14</td>\n",
       "      <td>19</td>\n",
       "      <td>12</td>\n",
       "      <td>14</td>\n",
       "      <td>13</td>\n",
       "      <td>4</td>\n",
       "      <td>19</td>\n",
       "    </tr>\n",
       "  </tbody>\n",
       "</table>\n",
       "<p>5 rows × 283 columns</p>\n",
       "</div>"
      ],
      "text/plain": [
       "       RT       SERIALNO  SPORDER   PUMA  ST   ADJINC  PWGTP  AGEP  CIT  \\\n",
       "172472  P  2014000707906        3  11614  53  1022342     42    16    1   \n",
       "37820   P  2012000819734        4  11612  53  1056030     19    16    1   \n",
       "240397  P  2015000650843        3  11615  53  1013916     14    16    1   \n",
       "272079  P  2015001313106        4  11614  53  1013916     21    16    1   \n",
       "239832  P  2015000639047        5  11614  53  1013916     12    16    3   \n",
       "\n",
       "        CITWP  ...  PWGTP71  PWGTP72  PWGTP73  PWGTP74  PWGTP75  PWGTP76  \\\n",
       "172472    NaN  ...       16       36       37       59       41       45   \n",
       "37820     NaN  ...        7        5       21       21       25       26   \n",
       "240397    NaN  ...       16        4       15       14       13        3   \n",
       "272079    NaN  ...       31       19       19        8       22       24   \n",
       "239832    NaN  ...       11       11       23       14       19       12   \n",
       "\n",
       "        PWGTP77  PWGTP78  PWGTP79  PWGTP80  \n",
       "172472       66       30       15       12  \n",
       "37820        25        6       16       21  \n",
       "240397       30       24       22       13  \n",
       "272079       33       27        7       22  \n",
       "239832       14       13        4       19  \n",
       "\n",
       "[5 rows x 283 columns]"
      ]
     },
     "execution_count": 41,
     "metadata": {},
     "output_type": "execute_result"
    }
   ],
   "source": [
    "df_oy_2016_app.head()"
   ]
  },
  {
   "cell_type": "code",
   "execution_count": 170,
   "metadata": {},
   "outputs": [
    {
     "data": {
      "text/plain": [
       "11705"
      ]
     },
     "execution_count": 170,
     "metadata": {},
     "output_type": "execute_result"
    }
   ],
   "source": [
    "df_oy_2016_app.PWGTP.sum()"
   ]
  },
  {
   "cell_type": "markdown",
   "metadata": {},
   "source": [
    "***\n",
    "# Breakdown by Age\n",
    "### 16 to 18 OY Status by Age"
   ]
  },
  {
   "cell_type": "code",
   "execution_count": 54,
   "metadata": {},
   "outputs": [],
   "source": [
    "#total 16 to 18 yr olds in skc\n",
    "\n",
    "df_skc_16to18_2017 = df_pums_2017_filterd[df_pums_2017_filterd.agep.between(16, 18) & \n",
    "                                  df_pums_2017_filterd.puma.isin(pumas_skc)].sort_values('agep')"
   ]
  },
  {
   "cell_type": "code",
   "execution_count": 55,
   "metadata": {},
   "outputs": [
    {
     "data": {
      "text/plain": [
       "30141.0"
      ]
     },
     "execution_count": 55,
     "metadata": {},
     "output_type": "execute_result"
    }
   ],
   "source": [
    "df_skc_16to18_2017.pwgtp.sum()"
   ]
  },
  {
   "cell_type": "code",
   "execution_count": 48,
   "metadata": {},
   "outputs": [],
   "source": [
    "#total 16 to 18 yr old OY in skc\n",
    "\n",
    "df_skc_oy_16to18_2017 = df_pums_2017_filterd[df_pums_2017_filterd.agep.between(16, 18) & \n",
    "                                  df_pums_2017_filterd.puma.isin(pumas_skc) & \n",
    "                                  df_pums_2017_filterd.esr.isin(esr) & \n",
    "                                  (df_pums_2017_filterd.sch == '1')].sort_values('agep')"
   ]
  },
  {
   "cell_type": "code",
   "execution_count": 49,
   "metadata": {},
   "outputs": [
    {
     "data": {
      "text/plain": [
       "1815.0"
      ]
     },
     "execution_count": 49,
     "metadata": {},
     "output_type": "execute_result"
    }
   ],
   "source": [
    "df_skc_oy_16to18_2017.pwgtp.sum()"
   ]
  },
  {
   "cell_type": "code",
   "execution_count": 134,
   "metadata": {},
   "outputs": [
    {
     "data": {
      "text/plain": [
       "916.0"
      ]
     },
     "execution_count": 134,
     "metadata": {},
     "output_type": "execute_result"
    }
   ],
   "source": [
    "#16 to 18 yr old oy with no diploma in skc\n",
    "\n",
    "df_skc_oy_16to18_2017[df_skc_oy_16to18_2017.schl.isin(schl_no_dipl)]['pwgtp'].sum()"
   ]
  },
  {
   "cell_type": "code",
   "execution_count": 50,
   "metadata": {},
   "outputs": [
    {
     "data": {
      "text/plain": [
       "781.0"
      ]
     },
     "execution_count": 50,
     "metadata": {},
     "output_type": "execute_result"
    }
   ],
   "source": [
    "#16 to 18 yr old oy with diploma or ged in skc\n",
    "\n",
    "df_skc_oy_16to18_2017[df_skc_oy_16to18_2017.schl.isin(schl_dipl_ged)]['pwgtp'].sum()"
   ]
  },
  {
   "cell_type": "code",
   "execution_count": 51,
   "metadata": {},
   "outputs": [
    {
     "data": {
      "text/plain": [
       "118.0"
      ]
     },
     "execution_count": 51,
     "metadata": {},
     "output_type": "execute_result"
    }
   ],
   "source": [
    "#16 to 18 yr old oy with some college, but no degree, in skc\n",
    "\n",
    "df_skc_oy_16to18_2017[df_skc_oy_16to18_2017.schl.isin(schl_coll_nodeg)]['pwgtp'].sum()"
   ]
  },
  {
   "cell_type": "code",
   "execution_count": 67,
   "metadata": {},
   "outputs": [
    {
     "data": {
      "text/plain": [
       "0.0"
      ]
     },
     "execution_count": 67,
     "metadata": {},
     "output_type": "execute_result"
    }
   ],
   "source": [
    "#16 to 18 yr old oy with degree in skc\n",
    "\n",
    "df_skc_oy_16to18_2017[df_skc_oy_16to18_2017.schl.isin(schl_coll_deg)]['pwgtp'].sum()"
   ]
  },
  {
   "cell_type": "markdown",
   "metadata": {},
   "source": [
    " "
   ]
  },
  {
   "cell_type": "markdown",
   "metadata": {},
   "source": [
    "\n",
    "### 19 to 21 OY Status by Age"
   ]
  },
  {
   "cell_type": "code",
   "execution_count": 56,
   "metadata": {},
   "outputs": [],
   "source": [
    "#total 19 to 21 yr olds in skc\n",
    "\n",
    "df_skc_19to21_2017 = df_pums_2017_filterd[df_pums_2017_filterd.agep.between(19, 21) & \n",
    "                                  df_pums_2017_filterd.puma.isin(pumas_skc)].sort_values('agep')"
   ]
  },
  {
   "cell_type": "code",
   "execution_count": 57,
   "metadata": {},
   "outputs": [
    {
     "data": {
      "text/plain": [
       "25486.0"
      ]
     },
     "execution_count": 57,
     "metadata": {},
     "output_type": "execute_result"
    }
   ],
   "source": [
    "df_skc_19to21_2017.pwgtp.sum()"
   ]
  },
  {
   "cell_type": "code",
   "execution_count": 78,
   "metadata": {},
   "outputs": [],
   "source": [
    "#total 19 to 21 yr old OY in skc\n",
    "\n",
    "df_skc_oy_19to21_2017 = df_pums_2017_filterd[df_pums_2017_filterd.agep.between(19, 21) & \n",
    "                                  df_pums_2017_filterd.puma.isin(pumas_skc) & \n",
    "                                  df_pums_2017_filterd.esr.isin(esr) & \n",
    "                                  (df_pums_2017_filterd.sch == '1')].sort_values('agep')"
   ]
  },
  {
   "cell_type": "code",
   "execution_count": 61,
   "metadata": {},
   "outputs": [
    {
     "data": {
      "text/plain": [
       "3902.0"
      ]
     },
     "execution_count": 61,
     "metadata": {},
     "output_type": "execute_result"
    }
   ],
   "source": [
    "df_skc_oy_19to21_2017.pwgtp.sum()"
   ]
  },
  {
   "cell_type": "code",
   "execution_count": 62,
   "metadata": {},
   "outputs": [
    {
     "data": {
      "text/plain": [
       "1112.0"
      ]
     },
     "execution_count": 62,
     "metadata": {},
     "output_type": "execute_result"
    }
   ],
   "source": [
    "#19 to 21 yr old oy with no diploma in skc\n",
    "\n",
    "df_skc_oy_19to21_2017[df_skc_oy_19to21_2017.schl.isin(schl_no_dipl)]['pwgtp'].sum()"
   ]
  },
  {
   "cell_type": "code",
   "execution_count": 63,
   "metadata": {},
   "outputs": [
    {
     "data": {
      "text/plain": [
       "2176.0"
      ]
     },
     "execution_count": 63,
     "metadata": {},
     "output_type": "execute_result"
    }
   ],
   "source": [
    "#19 to 21 yr old oy with diploma or ged in skc\n",
    "\n",
    "df_skc_oy_19to21_2017[df_skc_oy_19to21_2017.schl.isin(schl_dipl_ged)]['pwgtp'].sum()"
   ]
  },
  {
   "cell_type": "code",
   "execution_count": 64,
   "metadata": {},
   "outputs": [
    {
     "data": {
      "text/plain": [
       "521.0"
      ]
     },
     "execution_count": 64,
     "metadata": {},
     "output_type": "execute_result"
    }
   ],
   "source": [
    "#19 to 21 yr old oy with some college, but no degree, in skc\n",
    "\n",
    "df_skc_oy_19to21_2017[df_skc_oy_19to21_2017.schl.isin(schl_coll_nodeg)]['pwgtp'].sum()"
   ]
  },
  {
   "cell_type": "code",
   "execution_count": 68,
   "metadata": {},
   "outputs": [
    {
     "data": {
      "text/plain": [
       "93.0"
      ]
     },
     "execution_count": 68,
     "metadata": {},
     "output_type": "execute_result"
    }
   ],
   "source": [
    "#19 to 21 yr old oy with degree in skc\n",
    "\n",
    "df_skc_oy_19to21_2017[df_skc_oy_19to21_2017.schl.isin(schl_coll_deg)]['pwgtp'].sum()"
   ]
  },
  {
   "cell_type": "markdown",
   "metadata": {},
   "source": [
    " "
   ]
  },
  {
   "cell_type": "markdown",
   "metadata": {},
   "source": [
    "\n",
    "### 22 to 24 OY Status by Age"
   ]
  },
  {
   "cell_type": "code",
   "execution_count": 69,
   "metadata": {},
   "outputs": [],
   "source": [
    "#total 22 to 24 yr olds in skc\n",
    "\n",
    "df_skc_22to24_2017 = df_pums_2017_filterd[df_pums_2017_filterd.agep.between(22, 24) & \n",
    "                                  df_pums_2017_filterd.puma.isin(pumas_skc)].sort_values('agep')"
   ]
  },
  {
   "cell_type": "code",
   "execution_count": 70,
   "metadata": {},
   "outputs": [
    {
     "data": {
      "text/plain": [
       "30256.0"
      ]
     },
     "execution_count": 70,
     "metadata": {},
     "output_type": "execute_result"
    }
   ],
   "source": [
    "df_skc_22to24_2017.pwgtp.sum()"
   ]
  },
  {
   "cell_type": "code",
   "execution_count": 71,
   "metadata": {},
   "outputs": [],
   "source": [
    "#total 22 to 24 yr old OY in skc\n",
    "\n",
    "df_skc_oy_22to24_2017 = df_pums_2017_filterd[df_pums_2017_filterd.agep.between(22, 24) & \n",
    "                                  df_pums_2017_filterd.puma.isin(pumas_skc) & \n",
    "                                  df_pums_2017_filterd.esr.isin(esr) & \n",
    "                                  (df_pums_2017_filterd.sch == '1')].sort_values('agep')"
   ]
  },
  {
   "cell_type": "code",
   "execution_count": 72,
   "metadata": {},
   "outputs": [
    {
     "data": {
      "text/plain": [
       "4897.0"
      ]
     },
     "execution_count": 72,
     "metadata": {},
     "output_type": "execute_result"
    }
   ],
   "source": [
    "df_skc_oy_22to24_2017.pwgtp.sum()"
   ]
  },
  {
   "cell_type": "code",
   "execution_count": 73,
   "metadata": {},
   "outputs": [
    {
     "data": {
      "text/plain": [
       "1349.0"
      ]
     },
     "execution_count": 73,
     "metadata": {},
     "output_type": "execute_result"
    }
   ],
   "source": [
    "#22 to 24 yr old oy with no diploma in skc\n",
    "\n",
    "df_skc_oy_22to24_2017[df_skc_oy_22to24_2017.schl.isin(schl_no_dipl)]['pwgtp'].sum()"
   ]
  },
  {
   "cell_type": "code",
   "execution_count": 74,
   "metadata": {},
   "outputs": [
    {
     "data": {
      "text/plain": [
       "2135.0"
      ]
     },
     "execution_count": 74,
     "metadata": {},
     "output_type": "execute_result"
    }
   ],
   "source": [
    "#22 to 24 yr old oy with diploma or ged in skc\n",
    "\n",
    "df_skc_oy_22to24_2017[df_skc_oy_22to24_2017.schl.isin(schl_dipl_ged)]['pwgtp'].sum()"
   ]
  },
  {
   "cell_type": "code",
   "execution_count": 75,
   "metadata": {},
   "outputs": [
    {
     "data": {
      "text/plain": [
       "1000.0"
      ]
     },
     "execution_count": 75,
     "metadata": {},
     "output_type": "execute_result"
    }
   ],
   "source": [
    "#22 to 24 yr old oy with some college, but no degree, in skc\n",
    "\n",
    "df_skc_oy_22to24_2017[df_skc_oy_22to24_2017.schl.isin(schl_coll_nodeg)]['pwgtp'].sum()"
   ]
  },
  {
   "cell_type": "code",
   "execution_count": 76,
   "metadata": {},
   "outputs": [
    {
     "data": {
      "text/plain": [
       "413.0"
      ]
     },
     "execution_count": 76,
     "metadata": {},
     "output_type": "execute_result"
    }
   ],
   "source": [
    "#22 to 24 yr old oy with degree in skc\n",
    "\n",
    "df_skc_oy_22to24_2017[df_skc_oy_22to24_2017.schl.isin(schl_coll_deg)]['pwgtp'].sum()"
   ]
  },
  {
   "cell_type": "markdown",
   "metadata": {},
   "source": [
    "Make sure you close the DB connection when you are done using it"
   ]
  },
  {
   "cell_type": "markdown",
   "metadata": {},
   "source": [
    "### conn.close()"
   ]
  },
  {
   "cell_type": "code",
   "execution_count": null,
   "metadata": {},
   "outputs": [],
   "source": []
  }
 ],
 "metadata": {
  "kernelspec": {
   "display_name": "Python 3",
   "language": "python",
   "name": "python3"
  },
  "language_info": {
   "codemirror_mode": {
    "name": "ipython",
    "version": 3
   },
   "file_extension": ".py",
   "mimetype": "text/x-python",
   "name": "python",
   "nbconvert_exporter": "python",
   "pygments_lexer": "ipython3",
   "version": "3.8.1"
  }
 },
 "nbformat": 4,
 "nbformat_minor": 4
}
